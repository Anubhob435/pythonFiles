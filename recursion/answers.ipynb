{
 "cells": [
  {
   "cell_type": "markdown",
   "id": "099911e9",
   "metadata": {},
   "source": [
    "1. Write a recursive function to calculate the factorial of a number."
   ]
  },
  {
   "cell_type": "code",
   "execution_count": 1,
   "id": "762b5d33",
   "metadata": {},
   "outputs": [
    {
     "data": {
      "text/plain": [
       "120"
      ]
     },
     "execution_count": 1,
     "metadata": {},
     "output_type": "execute_result"
    }
   ],
   "source": [
    "def recursion_factorial(n):\n",
    "    if n == 0 or n == 1:\n",
    "        return 1\n",
    "    else:\n",
    "        return n * recursion_factorial(n - 1)\n",
    "\n",
    "recursion_factorial(5)  # Example usage, should return 120"
   ]
  },
  {
   "cell_type": "markdown",
   "id": "52da706b",
   "metadata": {},
   "source": [
    "2. Write a recursive function to compute the nth Fibonacci number."
   ]
  },
  {
   "cell_type": "code",
   "execution_count": 3,
   "id": "fd77cb4a",
   "metadata": {},
   "outputs": [
    {
     "name": "stdout",
     "output_type": "stream",
     "text": [
      "[0, 1, 1, 2, 3, 5, 8, 13, 21, 34]\n"
     ]
    }
   ],
   "source": [
    "def recursion_fibonacci(n):\n",
    "    if n <= 0:\n",
    "        return []\n",
    "    elif n == 1:\n",
    "        return [0]\n",
    "    elif n == 2:\n",
    "        return [0, 1]\n",
    "    else:\n",
    "        seq = recursion_fibonacci(n - 1)\n",
    "        seq.append(seq[-1] + seq[-2])\n",
    "        return seq\n",
    "\n",
    "print(recursion_fibonacci(10))\n"
   ]
  },
  {
   "cell_type": "markdown",
   "id": "f642707e",
   "metadata": {},
   "source": [
    "3. Write a recursive function to sum all elements in a list."
   ]
  },
  {
   "cell_type": "code",
   "execution_count": 9,
   "id": "503bdb7e",
   "metadata": {},
   "outputs": [
    {
     "name": "stdout",
     "output_type": "stream",
     "text": [
      "21\n"
     ]
    }
   ],
   "source": [
    "def sum_of_array_using_recursion(arr, n):\n",
    "    if n <= 0:\n",
    "        return 0\n",
    "    return arr[n-1] + sum_of_array_using_recursion(arr, n-1)\n",
    "\n",
    "arr = [1, 2, 3, 4, 5, 6]\n",
    "print(sum_of_array_using_recursion(arr, len(arr)))  "
   ]
  },
  {
   "cell_type": "markdown",
   "id": "ae61a74a",
   "metadata": {},
   "source": [
    "4. Write a recursive function to reverse a string."
   ]
  },
  {
   "cell_type": "code",
   "execution_count": 11,
   "id": "a9381fb2",
   "metadata": {},
   "outputs": [
    {
     "name": "stdout",
     "output_type": "stream",
     "text": [
      "olleh\n"
     ]
    }
   ],
   "source": [
    "def rever_string_recursion(s):\n",
    "    if len(s) == 0:\n",
    "        return s\n",
    "    else:\n",
    "        return s[-1] + rever_string_recursion(s[:-1])\n",
    "    \n",
    "print(rever_string_recursion(\"hello\"))  # Output: \"olleh\""
   ]
  },
  {
   "cell_type": "markdown",
   "id": "997e784b",
   "metadata": {},
   "source": [
    "5. Write a recursive function to find the greatest common divisor (GCD) of two numbers."
   ]
  },
  {
   "cell_type": "code",
   "execution_count": null,
   "id": "adbd18be",
   "metadata": {},
   "outputs": [
    {
     "name": "stdout",
     "output_type": "stream",
     "text": [
      "6\n"
     ]
    }
   ],
   "source": [
    "def gcd_recursion(a, b):\n",
    "    if b == 0:\n",
    "        return a\n",
    "    else:\n",
    "        return gcd_recursion(b, a % b)\n",
    "    \n",
    "print(gcd_recursion(48, 18))  "
   ]
  },
  {
   "cell_type": "markdown",
   "id": "3a6eecc8",
   "metadata": {},
   "source": [
    "6. Write a recursive function to count the number of digits in a number."
   ]
  },
  {
   "cell_type": "code",
   "execution_count": null,
   "id": "497912cc",
   "metadata": {},
   "outputs": [],
   "source": [
    "def cony_digits_recursion(n):\n",
    "    if n < 10:\n",
    "        return n\n",
    "    else:\n",
    "        return n % 10 + cony_digits_recursion(n // 10)\n",
    "\n",
    "print(cony_digits_recursion(12345))  # Output: 15"
   ]
  }
 ],
 "metadata": {
  "kernelspec": {
   "display_name": "Python 3",
   "language": "python",
   "name": "python3"
  },
  "language_info": {
   "codemirror_mode": {
    "name": "ipython",
    "version": 3
   },
   "file_extension": ".py",
   "mimetype": "text/x-python",
   "name": "python",
   "nbconvert_exporter": "python",
   "pygments_lexer": "ipython3",
   "version": "3.12.4"
  }
 },
 "nbformat": 4,
 "nbformat_minor": 5
}
