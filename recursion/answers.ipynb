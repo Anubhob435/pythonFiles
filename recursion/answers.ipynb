{
 "cells": [
  {
   "cell_type": "markdown",
   "id": "099911e9",
   "metadata": {},
   "source": [
    "1. Write a recursive function to calculate the factorial of a number."
   ]
  },
  {
   "cell_type": "code",
   "execution_count": null,
   "id": "762b5d33",
   "metadata": {},
   "outputs": [],
   "source": []
  }
 ],
 "metadata": {
  "language_info": {
   "name": "python"
  }
 },
 "nbformat": 4,
 "nbformat_minor": 5
}
