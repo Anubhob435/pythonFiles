{
 "cells": [
  {
   "cell_type": "code",
   "execution_count": 1,
   "id": "3e56c07e",
   "metadata": {},
   "outputs": [
    {
     "name": "stdout",
     "output_type": "stream",
     "text": [
      "Hi NPN\n"
     ]
    }
   ],
   "source": [
    "#Variable In Pythons\n",
    "def get_player_choice():\n",
    "    Player_choice = \"rock\"\n",
    "    computer_choice = \"paper\"\n",
    "\n",
    "    return Player_choice, computer_choice\n",
    "\n",
    "def greeting():\n",
    "    return \"Hi NPN\"\n",
    "\n",
    "print(greeting())"
   ]
  },
  {
   "cell_type": "code",
   "execution_count": 16,
   "id": "259262bd",
   "metadata": {},
   "outputs": [
    {
     "name": "stdout",
     "output_type": "stream",
     "text": [
      "NPN\n",
      "Name: NPN and <class 'str'>, Age: 30 type <class 'int'>, Height: 5.9 type <class 'float'>, Is Student: True type <class 'bool'>\n"
     ]
    }
   ],
   "source": [
    "# this is a comment\n",
    "\n",
    "name = \"NPN\"; print(name)\n",
    "\n",
    "# Data Types in Python\n",
    "name = \"NPN\" # String\n",
    "age = 30 # Integer  \n",
    "height = 5.9 # Float\n",
    "is_student = True # Boolean\n",
    "print(f\"Name: {name} and { type(name)}, Age: {age} type {type(age)}, Height: {height} type {type(height)}, Is Student: {is_student} type {type(is_student)}\")\n"
   ]
  },
  {
   "cell_type": "code",
   "execution_count": null,
   "id": "a24132e0",
   "metadata": {},
   "outputs": [
    {
     "name": "stdout",
     "output_type": "stream",
     "text": [
      "Age: 30 type <class 'int'>\n",
      "Addition: 30, Subtraction: 10, \n",
      "        Multiplication: 200, Division: 2.0, \n",
      "        Modulus: 0, Exponentiation: 100, \n",
      "        Floor Division: 2\n"
     ]
    }
   ],
   "source": [
    "age = int(30.54)\n",
    "print (f\"Age: {age} type {type(age)}\")\n",
    "\n",
    "# Operators in Python\n",
    "a = 10  \n",
    "b = 20\n",
    "print(f\"\"\"Addition: {a + b}, Subtraction: {b - a}, \n",
    "        Multiplication: {a * b}, Division: {b / a}, \n",
    "        Modulus: {b % a}, Exponentiation: {a ** 2}, \n",
    "        Floor Division: {b // a}\"\"\")\n"
   ]
  },
  {
   "cell_type": "markdown",
   "id": "dd64d318",
   "metadata": {},
   "source": [
    "Other operators are\n",
    "> < <= >= == !=\n",
    "Logical Operators: and, or, not\n",
    "Bitwise Operators: &, |, ^, ~, <<, >>\n",
    "Assignment Operators: =, +=, -=, *=, /=, %=, //=, **=, &=, |=, ^=, <<=, >>=\n",
    "Identity Operators: is, is not"
   ]
  },
  {
   "cell_type": "code",
   "execution_count": 13,
   "id": "10cae56c",
   "metadata": {},
   "outputs": [
    {
     "name": "stdout",
     "output_type": "stream",
     "text": [
      "Computer choice is: paper\n"
     ]
    }
   ],
   "source": [
    "#Dictionary and list in Python\n",
    "food = [\"pizza\", \"burger\", \"pasta\"]\n",
    "\n",
    "dict = {\"name\": \"NPN\", \n",
    "        \"age\" : 20,\n",
    "}\n",
    "\n",
    "player_choice = {\"player_choice\": \"rock\",\n",
    "                \"computer_choice\": \"paper\",\n",
    "                }\n",
    "\n",
    "#print(player_choice)\n",
    "\n",
    "choice = player_choice[\"computer_choice\"]\n",
    "print(\"Computer choice is: \" + choice)"
   ]
  },
  {
   "cell_type": "code",
   "execution_count": 29,
   "id": "b928eda5",
   "metadata": {},
   "outputs": [
    {
     "name": "stdout",
     "output_type": "stream",
     "text": [
      "Hello, World I am Coding!\n",
      "HELLO, WORLD I AM CODING!\n",
      "hello, world i am coding!\n",
      "Hello, Python I am Coding!\n",
      "['Hello', 'World I am Coding!']\n",
      "Hello NPN\n",
      "7\n",
      "Hello, World I am Coding!\n",
      "Hello, World I Am Coding!\n",
      "True\n",
      "True\n",
      "3\n",
      "25\n",
      "H\n",
      "!\n",
      "False\n",
      "7\n",
      "Jas\"on\" Roy\n"
     ]
    }
   ],
   "source": [
    "# String Manipulation in Python\n",
    "greeting = \"Hello, World I am Coding!\"  \n",
    "name = \"NPN\"\n",
    "print(greeting)  # Print the greeting\n",
    "print(greeting.upper())  # Convert to uppercase\n",
    "print(greeting.lower())  # Convert to lowercase\n",
    "print(greeting.replace(\"World\", \"Python\"))  # Replace substring\n",
    "print(greeting.split(\", \"))  # Split string into a list\n",
    "\n",
    "# Join find replace strip\n",
    "\n",
    "print(\" \".join([\"Hello\", \"NPN\"]))  # Join list into a string\n",
    "print(greeting.find(\"World\"))  # Find substring index\n",
    "print(greeting.strip())  # Remove leading/trailing whitespace\n",
    "\n",
    "print(greeting.title())  # Convert to title case\n",
    "print(greeting.startswith(\"Hello\"))  # Check if starts with substring\n",
    "print(greeting.endswith(\"!\"))  # Check if ends with substring\n",
    "print(greeting.count(\"o\"))  # Count occurrences of a substring\n",
    "\n",
    "print(len(greeting))\n",
    "print(greeting[0])  # Access first character\n",
    "print(greeting[-1])  # Access last character\n",
    "print(\"world\" in greeting)  # Check if substring exists\n",
    "print(greeting.index(\"World\"))  # Get index of substring\n",
    "\n",
    "name2 = 'Jas\\\"on\\\" Roy'\n",
    "print(name2)  # Print name with escaped quote\n"
   ]
  },
  {
   "cell_type": "code",
   "execution_count": 30,
   "id": "07764c30",
   "metadata": {},
   "outputs": [
    {
     "name": "stdout",
     "output_type": "stream",
     "text": [
      "Jason\n",
      "Roy\n",
      "Jason\n",
      "Roy\n"
     ]
    }
   ],
   "source": [
    "# Substring in Python\n",
    "name = \"Jason Roy\"\n",
    "print(name[0:5])  # Get substring from index 0 to 4\n",
    "print(name[6:])  # Get substring from index 6 to end\n",
    "print(name[:5])  # Get substring from start to index 4\n",
    "print(name[-3:])  # Get last 3 characters\n",
    "\n"
   ]
  },
  {
   "cell_type": "code",
   "execution_count": 15,
   "id": "011d1785",
   "metadata": {},
   "outputs": [
    {
     "name": "stdout",
     "output_type": "stream",
     "text": [
      "Computer chose: scissors\n",
      "Biased result: You lose!\n"
     ]
    }
   ],
   "source": [
    "import random\n",
    "\n",
    "def get_user_input():\n",
    "    user_input = input(\"Enter your choice (rock, paper, scissors): \")\n",
    "    return user_input\n",
    "\n",
    "list_options = {1: \"rock\",\n",
    "                2: \"paper\",\n",
    "                3: \"scissors\",\n",
    "                }\n",
    "\n",
    "def get_computer_choice():\n",
    "    random_choice = random.randint(1, 3)\n",
    "    computer_choice = list_options[random_choice]\n",
    "    return computer_choice\n",
    "\n",
    "def check_winner(user_choice, computer_choice):\n",
    "    if user_choice == computer_choice:\n",
    "        return \"It's a tie!\"\n",
    "    elif (user_choice == \"rock\" and computer_choice == \"scissors\") or \\\n",
    "         (user_choice == \"paper\" and computer_choice == \"rock\") or \\\n",
    "         (user_choice == \"scissors\" and computer_choice == \"paper\"):\n",
    "        return \"You win!\"\n",
    "    else:\n",
    "        return \"You lose!\"\n",
    "\n",
    "#user_choice = get_user_input()\n",
    "#print(f\"You chose: {user_choice}\")\n",
    "computer_choice = get_computer_choice()\n",
    "print(f\"Computer chose: {computer_choice}\")\n",
    "\n",
    "#result = check_winner(user_choice, computer_choice)\n",
    "#print(result)\n",
    "\n",
    "result_biased = check_winner(\"rock\", \"paper\")\n",
    "print(f\"Biased result: {result_biased}\")\n"
   ]
  },
  {
   "cell_type": "code",
   "execution_count": 35,
   "id": "e363443a",
   "metadata": {},
   "outputs": [
    {
     "name": "stdout",
     "output_type": "stream",
     "text": [
      "Done is False\n",
      "At least one variable is True\n",
      "Not both variables are True\n"
     ]
    }
   ],
   "source": [
    "# Boolean Logic in Python\n",
    "done = \"\"\n",
    "if done:\n",
    "    print(\"Done is True\")\n",
    "else:\n",
    "    print(\"Done is False\")\n",
    "\n",
    "var1 = True\n",
    "var2 = False\n",
    "\n",
    "if any([var1, var2]):\n",
    "    print(\"At least one variable is True\")\n",
    "\n",
    "if all([var1, var2]):\n",
    "    print(\"Both variables are True\")\n",
    "else:\n",
    "    print(\"Not both variables are True\")"
   ]
  },
  {
   "cell_type": "markdown",
   "id": "420d5f37",
   "metadata": {},
   "source": [
    "There is a Math Standard Library"
   ]
  },
  {
   "cell_type": "code",
   "execution_count": null,
   "id": "72b3bc8c",
   "metadata": {},
   "outputs": [
    {
     "name": "stdout",
     "output_type": "stream",
     "text": [
      "2.0\n",
      "3.0\n",
      "3\n"
     ]
    }
   ],
   "source": [
    "import math\n",
    "from enum import Enum\n",
    "\n",
    "# Numbers In Python\n",
    "num1 = 10 # integer\n",
    "num2 = 3.14 # float\n",
    "\n",
    "complex_num = 2 + 3j # complex number\n",
    "print(complex_num.real)  # Get real part\n",
    "print(complex_num.imag)  # Get imaginary part\n",
    "\n",
    "print(round(num2))  # Round to nearest integer\n",
    "\n"
   ]
  }
 ],
 "metadata": {
  "kernelspec": {
   "display_name": "Python 3",
   "language": "python",
   "name": "python3"
  },
  "language_info": {
   "codemirror_mode": {
    "name": "ipython",
    "version": 3
   },
   "file_extension": ".py",
   "mimetype": "text/x-python",
   "name": "python",
   "nbconvert_exporter": "python",
   "pygments_lexer": "ipython3",
   "version": "3.12.4"
  }
 },
 "nbformat": 4,
 "nbformat_minor": 5
}
