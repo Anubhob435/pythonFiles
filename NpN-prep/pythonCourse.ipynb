{
 "cells": [
  {
   "cell_type": "code",
   "execution_count": 1,
   "id": "3e56c07e",
   "metadata": {},
   "outputs": [
    {
     "name": "stdout",
     "output_type": "stream",
     "text": [
      "Hi NPN\n"
     ]
    }
   ],
   "source": [
    "#Variable In Pythons\n",
    "def get_player_choice():\n",
    "    Player_choice = \"rock\"\n",
    "    computer_choice = \"paper\"\n",
    "\n",
    "    return Player_choice, computer_choice\n",
    "\n",
    "def greeting():\n",
    "    return \"Hi NPN\"\n",
    "\n",
    "print(greeting())"
   ]
  },
  {
   "cell_type": "code",
   "execution_count": null,
   "id": "10cae56c",
   "metadata": {},
   "outputs": [
    {
     "name": "stdout",
     "output_type": "stream",
     "text": [
      "{'player_choice': 'rock', 'computer_choice': 'paper'}\n"
     ]
    }
   ],
   "source": [
    "#Dictionary and list in Python\n",
    "food = [\"pizza\", \"burger\", \"pasta\"]\n",
    "\n",
    "dict = {\"name\": \"NPN\", \n",
    "        \"age\" : 20,\n",
    "}\n",
    "\n",
    "player_choice = {\"player_choice\": \"rock\",\n",
    "                \"computer_choice\": \"paper\",\n",
    "                }\n",
    "\n",
    "#print(player_choice)\n",
    "\n",
    "choice = player_choice[\"computer_choice\"]\n",
    "print(\"Computer choice is: \" + choice)"
   ]
  },
  {
   "cell_type": "code",
   "execution_count": 12,
   "id": "011d1785",
   "metadata": {},
   "outputs": [
    {
     "name": "stdout",
     "output_type": "stream",
     "text": [
      "Computer chose: rock\n",
      "Biased result: You lose!\n"
     ]
    }
   ],
   "source": [
    "import random\n",
    "\n",
    "def get_user_input():\n",
    "    user_input = input(\"Enter your choice (rock, paper, scissors): \")\n",
    "    return user_input\n",
    "\n",
    "list_options = {1: \"rock\",\n",
    "                2: \"paper\",\n",
    "                3: \"scissors\",\n",
    "                }\n",
    "\n",
    "def get_computer_choice():\n",
    "    random_choice = random.randint(1, 3)\n",
    "    computer_choice = list_options[random_choice]\n",
    "    return computer_choice\n",
    "\n",
    "def check_winner(user_choice, computer_choice):\n",
    "    if user_choice == computer_choice:\n",
    "        return \"It's a tie!\"\n",
    "    elif (user_choice == \"rock\" and computer_choice == \"scissors\") or \\\n",
    "         (user_choice == \"paper\" and computer_choice == \"rock\") or \\\n",
    "         (user_choice == \"scissors\" and computer_choice == \"paper\"):\n",
    "        return \"You win!\"\n",
    "    else:\n",
    "        return \"You lose!\"\n",
    "\n",
    "#user_choice = get_user_input()\n",
    "#print(f\"You chose: {user_choice}\")\n",
    "computer_choice = get_computer_choice()\n",
    "print(f\"Computer chose: {computer_choice}\")\n",
    "\n",
    "#result = check_winner(user_choice, computer_choice)\n",
    "#print(result)\n",
    "\n",
    "result_biased = check_winner(\"rock\", \"paper\")\n",
    "print(f\"Biased result: {result_biased}\")\n"
   ]
  }
 ],
 "metadata": {
  "kernelspec": {
   "display_name": "Python 3",
   "language": "python",
   "name": "python3"
  },
  "language_info": {
   "codemirror_mode": {
    "name": "ipython",
    "version": 3
   },
   "file_extension": ".py",
   "mimetype": "text/x-python",
   "name": "python",
   "nbconvert_exporter": "python",
   "pygments_lexer": "ipython3",
   "version": "3.12.4"
  }
 },
 "nbformat": 4,
 "nbformat_minor": 5
}
