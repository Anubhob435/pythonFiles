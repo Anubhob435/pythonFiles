{
 "cells": [
  {
   "cell_type": "code",
   "execution_count": null,
   "id": "143591fd",
   "metadata": {},
   "outputs": [],
   "source": [
    "# Simple Itarators iter() and next()\n",
    "\n",
    "\n",
    "\n"
   ]
  }
 ],
 "metadata": {
  "language_info": {
   "name": "python"
  }
 },
 "nbformat": 4,
 "nbformat_minor": 5
}
