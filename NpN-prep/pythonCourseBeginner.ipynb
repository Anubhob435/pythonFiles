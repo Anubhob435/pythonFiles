{
 "cells": [
  {
   "cell_type": "code",
   "execution_count": 1,
   "id": "3e56c07e",
   "metadata": {},
   "outputs": [
    {
     "name": "stdout",
     "output_type": "stream",
     "text": [
      "Hi NPN\n"
     ]
    }
   ],
   "source": [
    "#Variable In Pythons\n",
    "def get_player_choice():\n",
    "    Player_choice = \"rock\"\n",
    "    computer_choice = \"paper\"\n",
    "\n",
    "    return Player_choice, computer_choice\n",
    "\n",
    "def greeting():\n",
    "    return \"Hi NPN\"\n",
    "\n",
    "print(greeting())"
   ]
  },
  {
   "cell_type": "code",
   "execution_count": 16,
   "id": "259262bd",
   "metadata": {},
   "outputs": [
    {
     "name": "stdout",
     "output_type": "stream",
     "text": [
      "NPN\n",
      "Name: NPN and <class 'str'>, Age: 30 type <class 'int'>, Height: 5.9 type <class 'float'>, Is Student: True type <class 'bool'>\n"
     ]
    }
   ],
   "source": [
    "# this is a comment\n",
    "\n",
    "name = \"NPN\"; print(name)\n",
    "\n",
    "# Data Types in Python\n",
    "name = \"NPN\" # String\n",
    "age = 30 # Integer  \n",
    "height = 5.9 # Float\n",
    "is_student = True # Boolean\n",
    "print(f\"Name: {name} and { type(name)}, Age: {age} type {type(age)}, Height: {height} type {type(height)}, Is Student: {is_student} type {type(is_student)}\")\n"
   ]
  },
  {
   "cell_type": "code",
   "execution_count": null,
   "id": "a24132e0",
   "metadata": {},
   "outputs": [
    {
     "name": "stdout",
     "output_type": "stream",
     "text": [
      "Age: 30 type <class 'int'>\n",
      "Addition: 30, Subtraction: 10, \n",
      "        Multiplication: 200, Division: 2.0, \n",
      "        Modulus: 0, Exponentiation: 100, \n",
      "        Floor Division: 2\n"
     ]
    }
   ],
   "source": [
    "age = int(30.54)\n",
    "print (f\"Age: {age} type {type(age)}\")\n",
    "\n",
    "# Operators in Python\n",
    "a = 10  \n",
    "b = 20\n",
    "print(f\"\"\"Addition: {a + b}, Subtraction: {b - a}, \n",
    "        Multiplication: {a * b}, Division: {b / a}, \n",
    "        Modulus: {b % a}, Exponentiation: {a ** 2}, \n",
    "        Floor Division: {b // a}\"\"\")\n"
   ]
  },
  {
   "cell_type": "markdown",
   "id": "dd64d318",
   "metadata": {},
   "source": [
    "Other operators are\n",
    "> < <= >= == !=\n",
    "Logical Operators: and, or, not\n",
    "Bitwise Operators: &, |, ^, ~, <<, >>\n",
    "Assignment Operators: =, +=, -=, *=, /=, %=, //=, **=, &=, |=, ^=, <<=, >>=\n",
    "Identity Operators: is, is not"
   ]
  },
  {
   "cell_type": "code",
   "execution_count": 63,
   "id": "10cae56c",
   "metadata": {},
   "outputs": [
    {
     "name": "stdout",
     "output_type": "stream",
     "text": [
      "Computer choice is: paper\n",
      "Updated name in dict: JSON ROY\n",
      "Name: Brown\n",
      "Removed item: ('Balance', 1000.5)\n",
      "Keys: dict_keys(['name', 'age', 'color', 'foood', 'achivement', 'is_student']), Values: dict_values(['JSON ROY', 20, 'Brown', 'pizza', ['Python', 'Java', 'C++'], True])\n"
     ]
    }
   ],
   "source": [
    "#Dictionary and list in Python\n",
    "food = [\"pizza\", \"burger\", \"pasta\"]\n",
    "\n",
    "dict = {\"name\": \"NPN\", \n",
    "        \"age\" : 20,  \n",
    "        \"color\": \"Brown\",   \n",
    "        \"foood\": \"pizza\",\n",
    "        \"achivement\": [\"Python\", \"Java\", \"C++\"],\n",
    "        \"is_student\": True,\n",
    "        \"Balance\": 1000.50,\n",
    "        }\n",
    "\n",
    "player_choice = {\"player_choice\": \"rock\",\n",
    "                \"computer_choice\": \"paper\",\n",
    "                }\n",
    "\n",
    "#print(player_choice)\n",
    "\n",
    "choice = player_choice[\"computer_choice\"]\n",
    "print(\"Computer choice is: \" + choice)\n",
    "\n",
    "dict[\"name\"] = \"JSON ROY\"\n",
    "print(f\"Updated name in dict: {dict['name']}\")\n",
    "\n",
    "# get() method in dictionary\n",
    "print(f\"Name: {dict.get('color', 'Not Found')}\")\n",
    "\n",
    "\n",
    "# popitem in dictionary\n",
    "removed_item = dict.popitem()\n",
    "print(f\"Removed item: {removed_item}\")\n",
    "\n",
    "# keys() and values() in dictionary\n",
    "keys = dict.keys()      \n",
    "values = dict.values()\n",
    "print(f\"Keys: {keys}, Values: {values}\", end=\"\\n\")\n"
   ]
  },
  {
   "cell_type": "code",
   "execution_count": 29,
   "id": "b928eda5",
   "metadata": {},
   "outputs": [
    {
     "name": "stdout",
     "output_type": "stream",
     "text": [
      "Hello, World I am Coding!\n",
      "HELLO, WORLD I AM CODING!\n",
      "hello, world i am coding!\n",
      "Hello, Python I am Coding!\n",
      "['Hello', 'World I am Coding!']\n",
      "Hello NPN\n",
      "7\n",
      "Hello, World I am Coding!\n",
      "Hello, World I Am Coding!\n",
      "True\n",
      "True\n",
      "3\n",
      "25\n",
      "H\n",
      "!\n",
      "False\n",
      "7\n",
      "Jas\"on\" Roy\n"
     ]
    }
   ],
   "source": [
    "# String Manipulation in Python\n",
    "greeting = \"Hello, World I am Coding!\"  \n",
    "name = \"NPN\"\n",
    "print(greeting)  # Print the greeting\n",
    "print(greeting.upper())  # Convert to uppercase\n",
    "print(greeting.lower())  # Convert to lowercase\n",
    "print(greeting.replace(\"World\", \"Python\"))  # Replace substring\n",
    "print(greeting.split(\", \"))  # Split string into a list\n",
    "\n",
    "# Join find replace strip\n",
    "\n",
    "print(\" \".join([\"Hello\", \"NPN\"]))  # Join list into a string\n",
    "print(greeting.find(\"World\"))  # Find substring index\n",
    "print(greeting.strip())  # Remove leading/trailing whitespace\n",
    "\n",
    "print(greeting.title())  # Convert to title case\n",
    "print(greeting.startswith(\"Hello\"))  # Check if starts with substring\n",
    "print(greeting.endswith(\"!\"))  # Check if ends with substring\n",
    "print(greeting.count(\"o\"))  # Count occurrences of a substring\n",
    "\n",
    "print(len(greeting))\n",
    "print(greeting[0])  # Access first character\n",
    "print(greeting[-1])  # Access last character\n",
    "print(\"world\" in greeting)  # Check if substring exists\n",
    "print(greeting.index(\"World\"))  # Get index of substring\n",
    "\n",
    "name2 = 'Jas\\\"on\\\" Roy'\n",
    "print(name2)  # Print name with escaped quote\n"
   ]
  },
  {
   "cell_type": "code",
   "execution_count": 30,
   "id": "07764c30",
   "metadata": {},
   "outputs": [
    {
     "name": "stdout",
     "output_type": "stream",
     "text": [
      "Jason\n",
      "Roy\n",
      "Jason\n",
      "Roy\n"
     ]
    }
   ],
   "source": [
    "# Substring in Python\n",
    "name = \"Jason Roy\"\n",
    "print(name[0:5])  # Get substring from index 0 to 4\n",
    "print(name[6:])  # Get substring from index 6 to end\n",
    "print(name[:5])  # Get substring from start to index 4\n",
    "print(name[-3:])  # Get last 3 characters\n",
    "\n"
   ]
  },
  {
   "cell_type": "code",
   "execution_count": 15,
   "id": "011d1785",
   "metadata": {},
   "outputs": [
    {
     "name": "stdout",
     "output_type": "stream",
     "text": [
      "Computer chose: scissors\n",
      "Biased result: You lose!\n"
     ]
    }
   ],
   "source": [
    "import random\n",
    "\n",
    "def get_user_input():\n",
    "    user_input = input(\"Enter your choice (rock, paper, scissors): \")\n",
    "    return user_input\n",
    "\n",
    "list_options = {1: \"rock\",\n",
    "                2: \"paper\",\n",
    "                3: \"scissors\",\n",
    "                }\n",
    "\n",
    "def get_computer_choice():\n",
    "    random_choice = random.randint(1, 3)\n",
    "    computer_choice = list_options[random_choice]\n",
    "    return computer_choice\n",
    "\n",
    "def check_winner(user_choice, computer_choice):\n",
    "    if user_choice == computer_choice:\n",
    "        return \"It's a tie!\"\n",
    "    elif (user_choice == \"rock\" and computer_choice == \"scissors\") or \\\n",
    "         (user_choice == \"paper\" and computer_choice == \"rock\") or \\\n",
    "         (user_choice == \"scissors\" and computer_choice == \"paper\"):\n",
    "        return \"You win!\"\n",
    "    else:\n",
    "        return \"You lose!\"\n",
    "\n",
    "#user_choice = get_user_input()\n",
    "#print(f\"You chose: {user_choice}\")\n",
    "computer_choice = get_computer_choice()\n",
    "print(f\"Computer chose: {computer_choice}\")\n",
    "\n",
    "#result = check_winner(user_choice, computer_choice)\n",
    "#print(result)\n",
    "\n",
    "result_biased = check_winner(\"rock\", \"paper\")\n",
    "print(f\"Biased result: {result_biased}\")\n"
   ]
  },
  {
   "cell_type": "code",
   "execution_count": 35,
   "id": "e363443a",
   "metadata": {},
   "outputs": [
    {
     "name": "stdout",
     "output_type": "stream",
     "text": [
      "Done is False\n",
      "At least one variable is True\n",
      "Not both variables are True\n"
     ]
    }
   ],
   "source": [
    "# Boolean Logic in Python\n",
    "done = \"\"\n",
    "if done:\n",
    "    print(\"Done is True\")\n",
    "else:\n",
    "    print(\"Done is False\")\n",
    "\n",
    "var1 = True\n",
    "var2 = False\n",
    "\n",
    "if any([var1, var2]):\n",
    "    print(\"At least one variable is True\")\n",
    "\n",
    "if all([var1, var2]):\n",
    "    print(\"Both variables are True\")\n",
    "else:\n",
    "    print(\"Not both variables are True\")"
   ]
  },
  {
   "cell_type": "markdown",
   "id": "420d5f37",
   "metadata": {},
   "source": [
    "There is a Math Standard Library"
   ]
  },
  {
   "cell_type": "code",
   "execution_count": null,
   "id": "72b3bc8c",
   "metadata": {},
   "outputs": [
    {
     "name": "stdout",
     "output_type": "stream",
     "text": [
      "2.0\n",
      "3.0\n",
      "3\n"
     ]
    }
   ],
   "source": [
    "# Numbers In Python\n",
    "num1 = 10 # integer\n",
    "num2 = 3.14 # float\n",
    "\n",
    "complex_num = 2 + 3j # complex number\n",
    "print(complex_num.real)  # Get real part\n",
    "print(complex_num.imag)  # Get imaginary part\n",
    "\n",
    "print(round(num2))  # Round to nearest integer\n",
    "\n"
   ]
  },
  {
   "cell_type": "code",
   "execution_count": 40,
   "id": "a2ab4796",
   "metadata": {},
   "outputs": [
    {
     "name": "stdout",
     "output_type": "stream",
     "text": [
      "State.INACTIVE\n",
      "1\n",
      "2\n"
     ]
    }
   ],
   "source": [
    "import math\n",
    "from enum import Enum\n",
    "\n",
    "class State(Enum):\n",
    "    INACTIVE = 0\n",
    "    ACTIVE = 1\n",
    "\n",
    "print(State.INACTIVE)  # Output: State.INACTIVE\n",
    "print(State['ACTIVE'].value)    # Output: State.ACTIVE   \n",
    "\n",
    "print(len(State))  # Output: 2 (number of enum members)"
   ]
  },
  {
   "cell_type": "code",
   "execution_count": 53,
   "id": "99516f3d",
   "metadata": {},
   "outputs": [
    {
     "name": "stdout",
     "output_type": "stream",
     "text": [
      "apple\n",
      "['apple', 1, 'pi', True]\n",
      "['Tokyo', 'Paris', 'Sydney']\n",
      "['New York', 'London', 'Tokyo', 'Paris', 'Sydney', 'Berlin', 'Toronto', 'Dubai', 'Singapore', 'Barcelona', 'Los Angeles', 'San Francisco']\n",
      "New York, London, Paris, Sydney, Berlin, Toronto, Dubai, Singapore, Los Angeles, \n",
      "\n",
      "Berlin, Dubai, London, Los Angeles, New York, Paris, Singapore, Sydney, Toronto, "
     ]
    }
   ],
   "source": [
    "# Lists in Python\n",
    "fruits = [\"apple\", \"banana\", \"cherry\"]\n",
    "# Mixed data types\n",
    "mixed_list = [\"apple\", 1, 3.14, True]\n",
    "# Accessing elements\n",
    "print(fruits[0])  \n",
    "\n",
    "mixed_list[2] = \"pi\"\n",
    "print(mixed_list)  \n",
    "\n",
    "cities = [\"New York\", \"London\", \"Tokyo\", \"Paris\", \"Sydney\", \"Berlin\", \"Toronto\", \"Dubai\", \"Singapore\", \"Barcelona\"]\n",
    "print(cities[2:5])  \n",
    "\n",
    "# += extends append\n",
    "cities += [\"Los Angeles\", \"San Francisco\"]  \n",
    "print(cities)\n",
    "\n",
    "# Remove the last element\n",
    "cities.pop()\n",
    "\n",
    "# Remove a specific element\n",
    "cities.remove(\"Tokyo\")\n",
    "cities.pop(-2)\n",
    "\n",
    "for city in cities:\n",
    "    print(city, end=\", \")\n",
    "\n",
    "print(\"\\n\")\n",
    "    \n",
    "cities.sort()  # Sort the list\n",
    "for city in cities:\n",
    "    print(city , end=\", \")\n"
   ]
  },
  {
   "cell_type": "code",
   "execution_count": 54,
   "id": "e040d720",
   "metadata": {},
   "outputs": [
    {
     "name": "stdout",
     "output_type": "stream",
     "text": [
      "banana\n"
     ]
    }
   ],
   "source": [
    "# Tuples in Python\n",
    "fruits_tuple = (\"apple\", \"banana\", \"cherry\")\n",
    "# Accessing elements\n",
    "print(fruits_tuple[1])"
   ]
  },
  {
   "cell_type": "code",
   "execution_count": 68,
   "id": "9fa4a320",
   "metadata": {},
   "outputs": [
    {
     "name": "stdout",
     "output_type": "stream",
     "text": [
      "Union: {1, 2, 3, 4, 5, 6, 7, 8}\n",
      "Intersection: {4, 5}\n",
      "[1, 2, 3, 4, 5]\n"
     ]
    }
   ],
   "source": [
    "# Sets in PYTHON\n",
    "\n",
    "set1 = {1, 2, 3, 4, 5, 5}\n",
    "set2 = {4, 5, 6, 7, 8}\n",
    "\n",
    "mod = set1 | set2  # Union\n",
    "print(f\"Union: {mod}\")\n",
    "\n",
    "# intersection\n",
    "intersection = set1 & set2  # Intersection\n",
    "print(f\"Intersection: {intersection}\")\n",
    "\n",
    "print(list(set1))"
   ]
  },
  {
   "cell_type": "markdown",
   "id": "4961566b",
   "metadata": {},
   "source": [
    "in function()\n",
    "    - Parameters are List of inputs that the function can take in.\n",
    "    - Arguments are the values supplied in the function when called. Arguments can have default value\n",
    "\n",
    "variables delacared outside a function is called a global variable and is available everywhere\n",
    "variables inside a function is a local variable"
   ]
  },
  {
   "cell_type": "code",
   "execution_count": 77,
   "id": "d6252de9",
   "metadata": {},
   "outputs": [
    {
     "name": "stdout",
     "output_type": "stream",
     "text": [
      "15\n",
      "170\n"
     ]
    }
   ],
   "source": [
    "# Functions in Python\n",
    "def greet(name=\"Default Name\", age = 18):\n",
    "    \"\"\"Function to greet a person.\"\"\"\n",
    "    return f\"Hello, {name}, You are {age} years old!\"\n",
    "\n",
    "greet(\"Anubhob Dey\")  # Call the function\n",
    "\n",
    "# return statement will end the function and return the value\n",
    "def add_numbers(a, b):\n",
    "    \"\"\"Function to add two numbers.\"\"\"\n",
    "    return a + b\n",
    "\n",
    "print(add_numbers(5, 10)) \n",
    "\n",
    "# nested function\n",
    "def outer_function(x):\n",
    "    \"\"\"Outer function.\"\"\"\n",
    "    def inner_function(y):\n",
    "        \"\"\"Inner function.\"\"\"\n",
    "        return x + y\n",
    "    return inner_function\n",
    "result = outer_function(50)(120)  # Call inner function with argument 10\n",
    "print(result)  # Output: 15 "
   ]
  },
  {
   "cell_type": "markdown",
   "id": "af8da026",
   "metadata": {},
   "source": [
    "Objects in Python\n",
    "\n",
    "In Python, everything is an object, including numbers, strings, functions, and even classes themselves. An object is an instance of a class, which serves as a blueprint for creating objects. Objects have attributes (data) and methods (functions) that define their behavior and state. Python's object-oriented programming (OOP) allows for encapsulation, inheritance, and polymorphism, making code more modular and reusable. You can create your own objects by defining classes and then instantiating them."
   ]
  },
  {
   "cell_type": "code",
   "execution_count": null,
   "id": "a0a882de",
   "metadata": {},
   "outputs": [
    {
     "name": "stdout",
     "output_type": "stream",
     "text": [
      "Count is: 0\n",
      "Count is: 1\n",
      "Count is: 2\n",
      "Count is: 3\n",
      "Count is: 4\n",
      "Iteration: 0\n",
      "Iteration: 1\n",
      "Iteration: 2\n",
      "Iteration: 3\n",
      "Iteration: 4\n",
      "Item: 1\n",
      "Item: 2\n",
      "Item: 3\n",
      "Item: 4\n",
      "Item: 5\n",
      "Item at index 0: 1\n",
      "Item at index 1: 2\n",
      "Item at index 2: 3\n",
      "Item at index 3: 4\n",
      "Item at index 4: 5\n"
     ]
    }
   ],
   "source": [
    "# Loops in Python\n",
    "\n",
    "# While Loops execute until a condition is met\n",
    "\n",
    "count = 0\n",
    "while count < 5:\n",
    "    print(f\"Count is: {count}\")\n",
    "    count += 1  # Increment count by 1\n",
    "\n",
    "# for loop iterates over a sequence (like a list or string)\n",
    "for i in range(5):\n",
    "    print(f\"Iteration: {i}\")\n",
    "    \n",
    "lst = [1, 2, 3, 4, 5]\n",
    "for item in lst:\n",
    "    print(f\"Item: {item}\")\n",
    "\n",
    "x = len(lst)\n",
    "for i in range(x):\n",
    "    print(f\"Item at index {i}: {lst[i]}\")\n",
    "    \n"
   ]
  },
  {
   "cell_type": "code",
   "execution_count": 3,
   "id": "6c21bdf1",
   "metadata": {},
   "outputs": [
    {
     "name": "stdout",
     "output_type": "stream",
     "text": [
      "Current number: 0\n",
      "Current number: 1\n",
      "Current number: 2\n",
      "Current number: 3\n",
      "Current number: 4\n",
      "Breaking the loop at 5\n",
      "Skipping even number: 0\n",
      "Current odd number: 1\n",
      "Skipping even number: 2\n",
      "Current odd number: 3\n",
      "Skipping even number: 4\n",
      "Current odd number: 5\n",
      "Skipping even number: 6\n",
      "Current odd number: 7\n",
      "Skipping even number: 8\n",
      "Current odd number: 9\n"
     ]
    }
   ],
   "source": [
    "# break and continue statements\n",
    "for i in range(10):\n",
    "    if i == 5:\n",
    "        print(\"Breaking the loop at 5\")\n",
    "        break  # Exit the loop when i is 5\n",
    "    print(f\"Current number: {i}\")\n",
    "\n",
    "for i in range(10):\n",
    "    if i % 2 == 0:\n",
    "        print(f\"Skipping even number: {i}\")\n",
    "        continue  # Skip the rest of the loop for even numbers\n",
    "    print(f\"Current odd number: {i}\")"
   ]
  },
  {
   "cell_type": "code",
   "execution_count": 6,
   "id": "dee4a6be",
   "metadata": {},
   "outputs": [
    {
     "name": "stdout",
     "output_type": "stream",
     "text": [
      "Dog's name: Roger, Age: 5\n",
      "Animal is walking\n"
     ]
    }
   ],
   "source": [
    "# Classes in Python\n",
    "\n",
    "# Inheritance\n",
    "\n",
    "class Animal:\n",
    "    def walk(self):\n",
    "        \"\"\"Method to make the animal walk.\"\"\"\n",
    "        return \"Animal is walking\"\n",
    "\n",
    "class Dog(Animal):\n",
    "    def __init__(self, name, age):\n",
    "        \"\"\"Constructor to initialize the Dog object.\"\"\"\n",
    "        self.name = name\n",
    "        self.age = age\n",
    "    \n",
    "    def bark(self):\n",
    "        \"\"\"Method to make the dog bark.\"\"\"\n",
    "        print (\"Woof!\")\n",
    "        return \"Woof!\"\n",
    "\n",
    "\n",
    "roger = Dog(\"Roger\", 5)  # Create a Dog object\n",
    "print(f\"Dog's name: {roger.name}, Age: {roger.age}\")\n",
    "\n",
    "print(roger.walk())  # Call inherited method"
   ]
  },
  {
   "cell_type": "markdown",
   "id": "047f8d56",
   "metadata": {},
   "source": [
    "Modules in Python\n",
    "\n",
    "A module in Python is a file containing Python code (functions, classes, variables) that can be imported and reused in other programs. Modules help organize code into manageable sections and promote code reuse. Python has many built-in modules (like `math`, `random`, `os`), and you can create your own by saving code in a `.py` file. To use a module, you import it using the `import` statement. For example, `import math` allows you to use mathematical functions from the math module.\n",
    "\n",
    "\n",
    "Python Standard Library\n",
    "\n",
    "The Python Standard Library is a collection of modules and packages included with every Python installation. It provides a wide range of functionality, such as file I/O, system calls, sockets, data serialization, regular expressions, math operations, date and time manipulation, and much more. The standard library allows developers to perform common programming tasks without needing to install external packages, making Python powerful and versatile out of the box. Some commonly used modules include `math`, `random`, `os`, `sys`,`urllib`, `datetime`, and `json`. The library is well-documented and maintained, ensuring reliability and consistency across Python projects."
   ]
  },
  {
   "cell_type": "code",
   "execution_count": 7,
   "id": "74d4776c",
   "metadata": {},
   "outputs": [
    {
     "name": "stdout",
     "output_type": "stream",
     "text": [
      "Woof! Woof!\n"
     ]
    }
   ],
   "source": [
    "from lib import dog\n",
    "\n",
    "print(dog.bark())"
   ]
  },
  {
   "cell_type": "code",
   "execution_count": 13,
   "id": "e9470963",
   "metadata": {},
   "outputs": [
    {
     "name": "stdout",
     "output_type": "stream",
     "text": [
      "Hello, Nethan!\n",
      "Hello, Anubhob!\n"
     ]
    }
   ],
   "source": [
    "# Accepting arguments from CLI\n",
    "import sys\n",
    "import argparse\n",
    "\n",
    "def main():\n",
    "    if len(sys.argv) > 1:\n",
    "        name = sys.argv[1]\n",
    "        print(f\"Hello, {name}!\")\n",
    "    else:\n",
    "        print(\"No name provided.\")\n",
    "\n",
    "sys.argv = ['notebook', 'Nethan']  # Simulate CLI arguments\n",
    "main() \n",
    "\n",
    "# Using argparse for better argument parsing\n",
    "def parse_arguments():\n",
    "    parser = argparse.ArgumentParser(description=\"Process some integers.\")\n",
    "    parser.add_argument(\"name\", type=str, help=\"Name of the person\")\n",
    "    args = parser.parse_args()\n",
    "    print(f\"Hello, {args.name}!\")\n",
    "\n",
    "if __name__ == \"__main__\":\n",
    "    sys.argv = ['notebook', 'Anubhob']  # Simulate CLI arguments\n",
    "    parse_arguments()  # Call the argument parser   "
   ]
  },
  {
   "cell_type": "code",
   "execution_count": null,
   "id": "8fc8aec9",
   "metadata": {},
   "outputs": [
    {
     "name": "stdout",
     "output_type": "stream",
     "text": [
      "Lambda result: 50\n",
      "<map object at 0x000002254229A170>\n",
      "Using lsit function to convert map object to list\n",
      "[1, 9, 25, 36, 64, 81, 6561]\n",
      "\n",
      "Even numbers:\n",
      "[6, 8]\n"
     ]
    }
   ],
   "source": [
    "# Lambda Functions in Python\n",
    "\n",
    "result = lambda a, b : a * b\n",
    "print(f\"Lambda result: {result(5, 10)}\") \n",
    "\n",
    "\n",
    "# map, filter, and reduce functions\n",
    "\n",
    "numbers = [1, 3, 5, 6, 8, 9, 81]\n",
    "\n",
    "'''\n",
    "def sqr(a):\n",
    "    return a**2\n",
    "'''\n",
    "    \n",
    "#lmbdFunc = lambda a: a**2\n",
    "\n",
    "result = map(lambda a: a**2, numbers)\n",
    "\n",
    "print(result) # prints map object at memory address\n",
    "\n",
    "print(\"Using lsit function to convert map object to list\")\n",
    "print(list(result))\n",
    "print(\"\")\n",
    "\n",
    "# Using filter to get even numbers\n",
    "even_numbers = filter(lambda a: a**2 if a % 2 == 0 else None, numbers)\n",
    "\n",
    "print(\"Even numbers:\")\n",
    "print(list(even_numbers))\n",
    "\n",
    "\n",
    "\n"
   ]
  }
 ],
 "metadata": {
  "kernelspec": {
   "display_name": "Python 3",
   "language": "python",
   "name": "python3"
  },
  "language_info": {
   "codemirror_mode": {
    "name": "ipython",
    "version": 3
   },
   "file_extension": ".py",
   "mimetype": "text/x-python",
   "name": "python",
   "nbconvert_exporter": "python",
   "pygments_lexer": "ipython3",
   "version": "3.12.4"
  }
 },
 "nbformat": 4,
 "nbformat_minor": 5
}
