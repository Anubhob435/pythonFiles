{
 "cells": [
  {
   "cell_type": "code",
   "execution_count": 1,
   "id": "3e56c07e",
   "metadata": {},
   "outputs": [
    {
     "name": "stdout",
     "output_type": "stream",
     "text": [
      "Hi NPN\n"
     ]
    }
   ],
   "source": [
    "#Variable In Pythons\n",
    "def get_player_choice():\n",
    "    Player_choice = \"rock\"\n",
    "    computer_choice = \"paper\"\n",
    "\n",
    "    return Player_choice, computer_choice\n",
    "\n",
    "def greeting():\n",
    "    return \"Hi NPN\"\n",
    "\n",
    "print(greeting())"
   ]
  },
  {
   "cell_type": "code",
   "execution_count": 16,
   "id": "259262bd",
   "metadata": {},
   "outputs": [
    {
     "name": "stdout",
     "output_type": "stream",
     "text": [
      "NPN\n",
      "Name: NPN and <class 'str'>, Age: 30 type <class 'int'>, Height: 5.9 type <class 'float'>, Is Student: True type <class 'bool'>\n"
     ]
    }
   ],
   "source": [
    "# this is a comment\n",
    "\n",
    "name = \"NPN\"; print(name)\n",
    "\n",
    "# Data Types in Python\n",
    "name = \"NPN\" # String\n",
    "age = 30 # Integer  \n",
    "height = 5.9 # Float\n",
    "is_student = True # Boolean\n",
    "print(f\"Name: {name} and { type(name)}, Age: {age} type {type(age)}, Height: {height} type {type(height)}, Is Student: {is_student} type {type(is_student)}\")\n"
   ]
  },
  {
   "cell_type": "code",
   "execution_count": null,
   "id": "a24132e0",
   "metadata": {},
   "outputs": [
    {
     "name": "stdout",
     "output_type": "stream",
     "text": [
      "Age: 30 type <class 'int'>\n",
      "Addition: 30, Subtraction: 10, \n",
      "        Multiplication: 200, Division: 2.0, \n",
      "        Modulus: 0, Exponentiation: 100, \n",
      "        Floor Division: 2\n"
     ]
    }
   ],
   "source": [
    "age = int(30.54)\n",
    "print (f\"Age: {age} type {type(age)}\")\n",
    "\n",
    "# Operators in Python\n",
    "a = 10  \n",
    "b = 20\n",
    "print(f\"\"\"Addition: {a + b}, Subtraction: {b - a}, \n",
    "        Multiplication: {a * b}, Division: {b / a}, \n",
    "        Modulus: {b % a}, Exponentiation: {a ** 2}, \n",
    "        Floor Division: {b // a}\"\"\")\n"
   ]
  },
  {
   "cell_type": "markdown",
   "id": "dd64d318",
   "metadata": {},
   "source": [
    "Other operators are\n",
    "> < <= >= == !=\n",
    "Logical Operators: and, or, not\n",
    "Bitwise Operators: &, |, ^, ~, <<, >>\n",
    "Assignment Operators: =, +=, -=, *=, /=, %=, //=, **=, &=, |=, ^=, <<=, >>=\n",
    "Identity Operators: is, is not"
   ]
  },
  {
   "cell_type": "code",
   "execution_count": 63,
   "id": "10cae56c",
   "metadata": {},
   "outputs": [
    {
     "name": "stdout",
     "output_type": "stream",
     "text": [
      "Computer choice is: paper\n",
      "Updated name in dict: JSON ROY\n",
      "Name: Brown\n",
      "Removed item: ('Balance', 1000.5)\n",
      "Keys: dict_keys(['name', 'age', 'color', 'foood', 'achivement', 'is_student']), Values: dict_values(['JSON ROY', 20, 'Brown', 'pizza', ['Python', 'Java', 'C++'], True])\n"
     ]
    }
   ],
   "source": [
    "#Dictionary and list in Python\n",
    "food = [\"pizza\", \"burger\", \"pasta\"]\n",
    "\n",
    "dict = {\"name\": \"NPN\", \n",
    "        \"age\" : 20,  \n",
    "        \"color\": \"Brown\",   \n",
    "        \"foood\": \"pizza\",\n",
    "        \"achivement\": [\"Python\", \"Java\", \"C++\"],\n",
    "        \"is_student\": True,\n",
    "        \"Balance\": 1000.50,\n",
    "        }\n",
    "\n",
    "player_choice = {\"player_choice\": \"rock\",\n",
    "                \"computer_choice\": \"paper\",\n",
    "                }\n",
    "\n",
    "#print(player_choice)\n",
    "\n",
    "choice = player_choice[\"computer_choice\"]\n",
    "print(\"Computer choice is: \" + choice)\n",
    "\n",
    "dict[\"name\"] = \"JSON ROY\"\n",
    "print(f\"Updated name in dict: {dict['name']}\")\n",
    "\n",
    "# get() method in dictionary\n",
    "print(f\"Name: {dict.get('color', 'Not Found')}\")\n",
    "\n",
    "\n",
    "# popitem in dictionary\n",
    "removed_item = dict.popitem()\n",
    "print(f\"Removed item: {removed_item}\")\n",
    "\n",
    "# keys() and values() in dictionary\n",
    "keys = dict.keys()      \n",
    "values = dict.values()\n",
    "print(f\"Keys: {keys}, Values: {values}\", end=\"\\n\")\n"
   ]
  },
  {
   "cell_type": "code",
   "execution_count": 29,
   "id": "b928eda5",
   "metadata": {},
   "outputs": [
    {
     "name": "stdout",
     "output_type": "stream",
     "text": [
      "Hello, World I am Coding!\n",
      "HELLO, WORLD I AM CODING!\n",
      "hello, world i am coding!\n",
      "Hello, Python I am Coding!\n",
      "['Hello', 'World I am Coding!']\n",
      "Hello NPN\n",
      "7\n",
      "Hello, World I am Coding!\n",
      "Hello, World I Am Coding!\n",
      "True\n",
      "True\n",
      "3\n",
      "25\n",
      "H\n",
      "!\n",
      "False\n",
      "7\n",
      "Jas\"on\" Roy\n"
     ]
    }
   ],
   "source": [
    "# String Manipulation in Python\n",
    "greeting = \"Hello, World I am Coding!\"  \n",
    "name = \"NPN\"\n",
    "print(greeting)  # Print the greeting\n",
    "print(greeting.upper())  # Convert to uppercase\n",
    "print(greeting.lower())  # Convert to lowercase\n",
    "print(greeting.replace(\"World\", \"Python\"))  # Replace substring\n",
    "print(greeting.split(\", \"))  # Split string into a list\n",
    "\n",
    "# Join find replace strip\n",
    "\n",
    "print(\" \".join([\"Hello\", \"NPN\"]))  # Join list into a string\n",
    "print(greeting.find(\"World\"))  # Find substring index\n",
    "print(greeting.strip())  # Remove leading/trailing whitespace\n",
    "\n",
    "print(greeting.title())  # Convert to title case\n",
    "print(greeting.startswith(\"Hello\"))  # Check if starts with substring\n",
    "print(greeting.endswith(\"!\"))  # Check if ends with substring\n",
    "print(greeting.count(\"o\"))  # Count occurrences of a substring\n",
    "\n",
    "print(len(greeting))\n",
    "print(greeting[0])  # Access first character\n",
    "print(greeting[-1])  # Access last character\n",
    "print(\"world\" in greeting)  # Check if substring exists\n",
    "print(greeting.index(\"World\"))  # Get index of substring\n",
    "\n",
    "name2 = 'Jas\\\"on\\\" Roy'\n",
    "print(name2)  # Print name with escaped quote\n"
   ]
  },
  {
   "cell_type": "code",
   "execution_count": 30,
   "id": "07764c30",
   "metadata": {},
   "outputs": [
    {
     "name": "stdout",
     "output_type": "stream",
     "text": [
      "Jason\n",
      "Roy\n",
      "Jason\n",
      "Roy\n"
     ]
    }
   ],
   "source": [
    "# Substring in Python\n",
    "name = \"Jason Roy\"\n",
    "print(name[0:5])  # Get substring from index 0 to 4\n",
    "print(name[6:])  # Get substring from index 6 to end\n",
    "print(name[:5])  # Get substring from start to index 4\n",
    "print(name[-3:])  # Get last 3 characters\n",
    "\n"
   ]
  },
  {
   "cell_type": "code",
   "execution_count": 15,
   "id": "011d1785",
   "metadata": {},
   "outputs": [
    {
     "name": "stdout",
     "output_type": "stream",
     "text": [
      "Computer chose: scissors\n",
      "Biased result: You lose!\n"
     ]
    }
   ],
   "source": [
    "import random\n",
    "\n",
    "def get_user_input():\n",
    "    user_input = input(\"Enter your choice (rock, paper, scissors): \")\n",
    "    return user_input\n",
    "\n",
    "list_options = {1: \"rock\",\n",
    "                2: \"paper\",\n",
    "                3: \"scissors\",\n",
    "                }\n",
    "\n",
    "def get_computer_choice():\n",
    "    random_choice = random.randint(1, 3)\n",
    "    computer_choice = list_options[random_choice]\n",
    "    return computer_choice\n",
    "\n",
    "def check_winner(user_choice, computer_choice):\n",
    "    if user_choice == computer_choice:\n",
    "        return \"It's a tie!\"\n",
    "    elif (user_choice == \"rock\" and computer_choice == \"scissors\") or \\\n",
    "         (user_choice == \"paper\" and computer_choice == \"rock\") or \\\n",
    "         (user_choice == \"scissors\" and computer_choice == \"paper\"):\n",
    "        return \"You win!\"\n",
    "    else:\n",
    "        return \"You lose!\"\n",
    "\n",
    "#user_choice = get_user_input()\n",
    "#print(f\"You chose: {user_choice}\")\n",
    "computer_choice = get_computer_choice()\n",
    "print(f\"Computer chose: {computer_choice}\")\n",
    "\n",
    "#result = check_winner(user_choice, computer_choice)\n",
    "#print(result)\n",
    "\n",
    "result_biased = check_winner(\"rock\", \"paper\")\n",
    "print(f\"Biased result: {result_biased}\")\n"
   ]
  },
  {
   "cell_type": "code",
   "execution_count": 35,
   "id": "e363443a",
   "metadata": {},
   "outputs": [
    {
     "name": "stdout",
     "output_type": "stream",
     "text": [
      "Done is False\n",
      "At least one variable is True\n",
      "Not both variables are True\n"
     ]
    }
   ],
   "source": [
    "# Boolean Logic in Python\n",
    "done = \"\"\n",
    "if done:\n",
    "    print(\"Done is True\")\n",
    "else:\n",
    "    print(\"Done is False\")\n",
    "\n",
    "var1 = True\n",
    "var2 = False\n",
    "\n",
    "if any([var1, var2]):\n",
    "    print(\"At least one variable is True\")\n",
    "\n",
    "if all([var1, var2]):\n",
    "    print(\"Both variables are True\")\n",
    "else:\n",
    "    print(\"Not both variables are True\")"
   ]
  },
  {
   "cell_type": "markdown",
   "id": "420d5f37",
   "metadata": {},
   "source": [
    "There is a Math Standard Library"
   ]
  },
  {
   "cell_type": "code",
   "execution_count": null,
   "id": "72b3bc8c",
   "metadata": {},
   "outputs": [
    {
     "name": "stdout",
     "output_type": "stream",
     "text": [
      "2.0\n",
      "3.0\n",
      "3\n"
     ]
    }
   ],
   "source": [
    "# Numbers In Python\n",
    "num1 = 10 # integer\n",
    "num2 = 3.14 # float\n",
    "\n",
    "complex_num = 2 + 3j # complex number\n",
    "print(complex_num.real)  # Get real part\n",
    "print(complex_num.imag)  # Get imaginary part\n",
    "\n",
    "print(round(num2))  # Round to nearest integer\n",
    "\n"
   ]
  },
  {
   "cell_type": "code",
   "execution_count": 40,
   "id": "a2ab4796",
   "metadata": {},
   "outputs": [
    {
     "name": "stdout",
     "output_type": "stream",
     "text": [
      "State.INACTIVE\n",
      "1\n",
      "2\n"
     ]
    }
   ],
   "source": [
    "import math\n",
    "from enum import Enum\n",
    "\n",
    "class State(Enum):\n",
    "    INACTIVE = 0\n",
    "    ACTIVE = 1\n",
    "\n",
    "print(State.INACTIVE)  # Output: State.INACTIVE\n",
    "print(State['ACTIVE'].value)    # Output: State.ACTIVE   \n",
    "\n",
    "print(len(State))  # Output: 2 (number of enum members)"
   ]
  },
  {
   "cell_type": "code",
   "execution_count": 53,
   "id": "99516f3d",
   "metadata": {},
   "outputs": [
    {
     "name": "stdout",
     "output_type": "stream",
     "text": [
      "apple\n",
      "['apple', 1, 'pi', True]\n",
      "['Tokyo', 'Paris', 'Sydney']\n",
      "['New York', 'London', 'Tokyo', 'Paris', 'Sydney', 'Berlin', 'Toronto', 'Dubai', 'Singapore', 'Barcelona', 'Los Angeles', 'San Francisco']\n",
      "New York, London, Paris, Sydney, Berlin, Toronto, Dubai, Singapore, Los Angeles, \n",
      "\n",
      "Berlin, Dubai, London, Los Angeles, New York, Paris, Singapore, Sydney, Toronto, "
     ]
    }
   ],
   "source": [
    "# Lists in Python\n",
    "fruits = [\"apple\", \"banana\", \"cherry\"]\n",
    "# Mixed data types\n",
    "mixed_list = [\"apple\", 1, 3.14, True]\n",
    "# Accessing elements\n",
    "print(fruits[0])  \n",
    "\n",
    "mixed_list[2] = \"pi\"\n",
    "print(mixed_list)  \n",
    "\n",
    "cities = [\"New York\", \"London\", \"Tokyo\", \"Paris\", \"Sydney\", \"Berlin\", \"Toronto\", \"Dubai\", \"Singapore\", \"Barcelona\"]\n",
    "print(cities[2:5])  \n",
    "\n",
    "# += extends append\n",
    "cities += [\"Los Angeles\", \"San Francisco\"]  \n",
    "print(cities)\n",
    "\n",
    "# Remove the last element\n",
    "cities.pop()\n",
    "\n",
    "# Remove a specific element\n",
    "cities.remove(\"Tokyo\")\n",
    "cities.pop(-2)\n",
    "\n",
    "for city in cities:\n",
    "    print(city, end=\", \")\n",
    "\n",
    "print(\"\\n\")\n",
    "    \n",
    "cities.sort()  # Sort the list\n",
    "for city in cities:\n",
    "    print(city , end=\", \")\n"
   ]
  },
  {
   "cell_type": "code",
   "execution_count": 54,
   "id": "e040d720",
   "metadata": {},
   "outputs": [
    {
     "name": "stdout",
     "output_type": "stream",
     "text": [
      "banana\n"
     ]
    }
   ],
   "source": [
    "# Tuples in Python\n",
    "fruits_tuple = (\"apple\", \"banana\", \"cherry\")\n",
    "# Accessing elements\n",
    "print(fruits_tuple[1])"
   ]
  },
  {
   "cell_type": "code",
   "execution_count": 68,
   "id": "9fa4a320",
   "metadata": {},
   "outputs": [
    {
     "name": "stdout",
     "output_type": "stream",
     "text": [
      "Union: {1, 2, 3, 4, 5, 6, 7, 8}\n",
      "Intersection: {4, 5}\n",
      "[1, 2, 3, 4, 5]\n"
     ]
    }
   ],
   "source": [
    "# Sets in PYTHON\n",
    "\n",
    "set1 = {1, 2, 3, 4, 5, 5}\n",
    "set2 = {4, 5, 6, 7, 8}\n",
    "\n",
    "mod = set1 | set2  # Union\n",
    "print(f\"Union: {mod}\")\n",
    "\n",
    "# intersection\n",
    "intersection = set1 & set2  # Intersection\n",
    "print(f\"Intersection: {intersection}\")\n",
    "\n",
    "print(list(set1))"
   ]
  },
  {
   "cell_type": "markdown",
   "id": "4961566b",
   "metadata": {},
   "source": [
    "in function()\n",
    "    - Parameters are List of inputs that the function can take in.\n",
    "    - Arguments are the values supplied in the function when called. Arguments can have default value\n",
    "\n",
    "variables delacared outside a function is called a global variable and is available everywhere\n",
    "variables inside a function is a local variable"
   ]
  },
  {
   "cell_type": "code",
   "execution_count": 77,
   "id": "d6252de9",
   "metadata": {},
   "outputs": [
    {
     "name": "stdout",
     "output_type": "stream",
     "text": [
      "15\n",
      "170\n"
     ]
    }
   ],
   "source": [
    "# Functions in Python\n",
    "def greet(name=\"Default Name\", age = 18):\n",
    "    \"\"\"Function to greet a person.\"\"\"\n",
    "    return f\"Hello, {name}, You are {age} years old!\"\n",
    "\n",
    "greet(\"Anubhob Dey\")  # Call the function\n",
    "\n",
    "# return statement will end the function and return the value\n",
    "def add_numbers(a, b):\n",
    "    \"\"\"Function to add two numbers.\"\"\"\n",
    "    return a + b\n",
    "\n",
    "print(add_numbers(5, 10)) \n",
    "\n",
    "# nested function\n",
    "def outer_function(x):\n",
    "    \"\"\"Outer function.\"\"\"\n",
    "    def inner_function(y):\n",
    "        \"\"\"Inner function.\"\"\"\n",
    "        return x + y\n",
    "    return inner_function\n",
    "result = outer_function(50)(120)  # Call inner function with argument 10\n",
    "print(result)  # Output: 15 "
   ]
  },
  {
   "cell_type": "markdown",
   "id": "af8da026",
   "metadata": {},
   "source": [
    "Objects in Python\n",
    "\n",
    "In Python, everything is an object, including numbers, strings, functions, and even classes themselves. An object is an instance of a class, which serves as a blueprint for creating objects. Objects have attributes (data) and methods (functions) that define their behavior and state. Python's object-oriented programming (OOP) allows for encapsulation, inheritance, and polymorphism, making code more modular and reusable. You can create your own objects by defining classes and then instantiating them."
   ]
  },
  {
   "cell_type": "code",
   "execution_count": null,
   "id": "a0a882de",
   "metadata": {},
   "outputs": [
    {
     "name": "stdout",
     "output_type": "stream",
     "text": [
      "Count is: 0\n",
      "Count is: 1\n",
      "Count is: 2\n",
      "Count is: 3\n",
      "Count is: 4\n",
      "Iteration: 0\n",
      "Iteration: 1\n",
      "Iteration: 2\n",
      "Iteration: 3\n",
      "Iteration: 4\n",
      "Item: 1\n",
      "Item: 2\n",
      "Item: 3\n",
      "Item: 4\n",
      "Item: 5\n",
      "Item at index 0: 1\n",
      "Item at index 1: 2\n",
      "Item at index 2: 3\n",
      "Item at index 3: 4\n",
      "Item at index 4: 5\n"
     ]
    }
   ],
   "source": [
    "# Loops in Python\n",
    "\n",
    "# While Loops execute until a condition is met\n",
    "\n",
    "count = 0\n",
    "while count < 5:\n",
    "    print(f\"Count is: {count}\")\n",
    "    count += 1  # Increment count by 1\n",
    "\n",
    "# for loop iterates over a sequence (like a list or string)\n",
    "for i in range(5):\n",
    "    print(f\"Iteration: {i}\")\n",
    "    \n",
    "lst = [1, 2, 3, 4, 5]\n",
    "for item in lst:\n",
    "    print(f\"Item: {item}\")\n",
    "\n",
    "x = len(lst)\n",
    "for i in range(x):\n",
    "    print(f\"Item at index {i}: {lst[i]}\")\n",
    "    \n"
   ]
  },
  {
   "cell_type": "code",
   "execution_count": 3,
   "id": "6c21bdf1",
   "metadata": {},
   "outputs": [
    {
     "name": "stdout",
     "output_type": "stream",
     "text": [
      "Current number: 0\n",
      "Current number: 1\n",
      "Current number: 2\n",
      "Current number: 3\n",
      "Current number: 4\n",
      "Breaking the loop at 5\n",
      "Skipping even number: 0\n",
      "Current odd number: 1\n",
      "Skipping even number: 2\n",
      "Current odd number: 3\n",
      "Skipping even number: 4\n",
      "Current odd number: 5\n",
      "Skipping even number: 6\n",
      "Current odd number: 7\n",
      "Skipping even number: 8\n",
      "Current odd number: 9\n"
     ]
    }
   ],
   "source": [
    "# break and continue statements\n",
    "for i in range(10):\n",
    "    if i == 5:\n",
    "        print(\"Breaking the loop at 5\")\n",
    "        break  # Exit the loop when i is 5\n",
    "    print(f\"Current number: {i}\")\n",
    "\n",
    "for i in range(10):\n",
    "    if i % 2 == 0:\n",
    "        print(f\"Skipping even number: {i}\")\n",
    "        continue  # Skip the rest of the loop for even numbers\n",
    "    print(f\"Current odd number: {i}\")"
   ]
  },
  {
   "cell_type": "code",
   "execution_count": 6,
   "id": "dee4a6be",
   "metadata": {},
   "outputs": [
    {
     "name": "stdout",
     "output_type": "stream",
     "text": [
      "Dog's name: Roger, Age: 5\n",
      "Animal is walking\n"
     ]
    }
   ],
   "source": [
    "# Classes in Python\n",
    "\n",
    "# Inheritance\n",
    "\n",
    "class Animal:\n",
    "    def walk(self):\n",
    "        \"\"\"Method to make the animal walk.\"\"\"\n",
    "        return \"Animal is walking\"\n",
    "\n",
    "class Dog(Animal):\n",
    "    def __init__(self, name, age):\n",
    "        \"\"\"Constructor to initialize the Dog object.\"\"\"\n",
    "        self.name = name\n",
    "        self.age = age\n",
    "    \n",
    "    def bark(self):\n",
    "        \"\"\"Method to make the dog bark.\"\"\"\n",
    "        print (\"Woof!\")\n",
    "        return \"Woof!\"\n",
    "\n",
    "\n",
    "roger = Dog(\"Roger\", 5)  # Create a Dog object\n",
    "print(f\"Dog's name: {roger.name}, Age: {roger.age}\")\n",
    "\n",
    "print(roger.walk())  # Call inherited method"
   ]
  },
  {
   "cell_type": "markdown",
   "id": "047f8d56",
   "metadata": {},
   "source": [
    "Modules in Python\n",
    "\n",
    "A module in Python is a file containing Python code (functions, classes, variables) that can be imported and reused in other programs. Modules help organize code into manageable sections and promote code reuse. Python has many built-in modules (like `math`, `random`, `os`), and you can create your own by saving code in a `.py` file. To use a module, you import it using the `import` statement. For example, `import math` allows you to use mathematical functions from the math module.\n",
    "\n",
    "\n",
    "Python Standard Library\n",
    "\n",
    "The Python Standard Library is a collection of modules and packages included with every Python installation. It provides a wide range of functionality, such as file I/O, system calls, sockets, data serialization, regular expressions, math operations, date and time manipulation, and much more. The standard library allows developers to perform common programming tasks without needing to install external packages, making Python powerful and versatile out of the box. Some commonly used modules include `math`, `random`, `os`, `sys`,`urllib`, `datetime`, and `json`. The library is well-documented and maintained, ensuring reliability and consistency across Python projects."
   ]
  },
  {
   "cell_type": "code",
   "execution_count": 7,
   "id": "74d4776c",
   "metadata": {},
   "outputs": [
    {
     "name": "stdout",
     "output_type": "stream",
     "text": [
      "Woof! Woof!\n"
     ]
    }
   ],
   "source": [
    "from lib import dog\n",
    "\n",
    "print(dog.bark())"
   ]
  },
  {
   "cell_type": "code",
   "execution_count": 13,
   "id": "e9470963",
   "metadata": {},
   "outputs": [
    {
     "name": "stdout",
     "output_type": "stream",
     "text": [
      "Hello, Nethan!\n",
      "Hello, Anubhob!\n"
     ]
    }
   ],
   "source": [
    "# Accepting arguments from CLI\n",
    "import sys\n",
    "import argparse\n",
    "\n",
    "def main():\n",
    "    if len(sys.argv) > 1:\n",
    "        name = sys.argv[1]\n",
    "        print(f\"Hello, {name}!\")\n",
    "    else:\n",
    "        print(\"No name provided.\")\n",
    "\n",
    "sys.argv = ['notebook', 'Nethan']  # Simulate CLI arguments\n",
    "main() \n",
    "\n",
    "# Using argparse for better argument parsing\n",
    "def parse_arguments():\n",
    "    parser = argparse.ArgumentParser(description=\"Process some integers.\")\n",
    "    parser.add_argument(\"name\", type=str, help=\"Name of the person\")\n",
    "    args = parser.parse_args()\n",
    "    print(f\"Hello, {args.name}!\")\n",
    "\n",
    "if __name__ == \"__main__\":\n",
    "    sys.argv = ['notebook', 'Anubhob']  # Simulate CLI arguments\n",
    "    parse_arguments()  # Call the argument parser   "
   ]
  },
  {
   "cell_type": "code",
   "execution_count": 1,
   "id": "8fc8aec9",
   "metadata": {},
   "outputs": [
    {
     "name": "stdout",
     "output_type": "stream",
     "text": [
      "Lambda result: 50\n",
      "<map object at 0x0000025F6692B760>\n",
      "Using lsit function to convert map object to list\n",
      "[1, 9, 25, 36, 64, 81, 6561]\n",
      "\n",
      "Even numbers:\n",
      "[6, 8]\n",
      "\n",
      "Sum of numbers: 2000\n"
     ]
    }
   ],
   "source": [
    "# Lambda Functions in Python\n",
    "\n",
    "result = lambda a, b : a * b\n",
    "print(f\"Lambda result: {result(5, 10)}\") \n",
    "\n",
    "\n",
    "# map, filter, and reduce functions\n",
    "\n",
    "numbers = [1, 3, 5, 6, 8, 9, 81]\n",
    "\n",
    "'''\n",
    "def sqr(a):\n",
    "    return a**2\n",
    "'''\n",
    "    \n",
    "#lmbdFunc = lambda a: a**2\n",
    "\n",
    "result = map(lambda a: a**2, numbers)\n",
    "\n",
    "print(result) # prints map object at memory address\n",
    "\n",
    "print(\"Using lsit function to convert map object to list\")\n",
    "print(list(result))\n",
    "print(\"\")\n",
    "\n",
    "# Using filter to get even numbers\n",
    "even_numbers = filter(lambda a: a**2 if a % 2 == 0 else None, numbers)\n",
    "\n",
    "print(\"Even numbers:\")\n",
    "print(list(even_numbers))\n",
    "print(\"\")\n",
    "\n",
    "from functools import reduce\n",
    "# Using reduce to sum the numbers\n",
    "\n",
    "expenses = {\"rent\": 1200,\n",
    "            \"groceries\": 300,\n",
    "            \"utilities\": 150,\n",
    "            \"transportation\": 100,\n",
    "            \"entertainment\": 200,\n",
    "            \"miscellaneous\": 50\n",
    "            }\n",
    "sum_expenses = reduce(lambda x, y: x + y, expenses.values())\n",
    "print(f\"Sum of numbers: {sum_expenses}\")"
   ]
  },
  {
   "cell_type": "code",
   "execution_count": 12,
   "id": "c7496dd2",
   "metadata": {},
   "outputs": [
    {
     "name": "stdout",
     "output_type": "stream",
     "text": [
      "Factorial of 5 is: 402387260077093773543702433923003985719374864210714632543799910429938512398629020592044208486969404800479988610197196058631666872994808558901323829669944590997424504087073759918823627727188732519779505950995276120874975462497043601418278094646496291056393887437886487337119181045825783647849977012476632889835955735432513185323958463075557409114262417474349347553428646576611667797396668820291207379143853719588249808126867838374559731746136085379534524221586593201928090878297308431392844403281231558611036976801357304216168747609675871348312025478589320767169132448426236131412508780208000261683151027341827977704784635868170164365024153691398281264810213092761244896359928705114964975419909342221566832572080821333186116811553615836546984046708975602900950537616475847728421889679646244945160765353408198901385442487984959953319101723355556602139450399736280750137837615307127761926849034352625200015888535147331611702103968175921510907788019393178114194545257223865541461062892187960223838971476088506276862967146674697562911234082439208160153780889893964518263243671616762179168909779911903754031274622289988005195444414282012187361745992642956581746628302955570299024324153181617210465832036786906117260158783520751516284225540265170483304226143974286933061690897968482590125458327168226458066526769958652682272807075781391858178889652208164348344825993266043367660176999612831860788386150279465955131156552036093988180612138558600301435694527224206344631797460594682573103790084024432438465657245014402821885252470935190620929023136493273497565513958720559654228749774011413346962715422845862377387538230483865688976461927383814900140767310446640259899490222221765904339901886018566526485061799702356193897017860040811889729918311021171229845901641921068884387121855646124960798722908519296819372388642614839657382291123125024186649353143970137428531926649875337218940694281434118520158014123344828015051399694290153483077644569099073152433278288269864602789864321139083506217095002597389863554277196742822248757586765752344220207573630569498825087968928162753848863396909959826280956121450994871701244516461260379029309120889086942028510640182154399457156805941872748998094254742173582401063677404595741785160829230135358081840096996372524230560855903700624271243416909004153690105933983835777939410970027753472000000000000000000000000000000000000000000000000000000000000000000000000000000000000000000000000000000000000000000000000000000000000000000000000000000000000000000000000000000000000000000000000000000000000000000000000000000000000000000000000000000000\n"
     ]
    }
   ],
   "source": [
    "# recursion in Python\n",
    "def factorial_not_recursive(n):\n",
    "    \"\"\"Function to calculate factorial of a number without recursion.\"\"\"\n",
    "    result = 1\n",
    "    for i in range(1, n + 1):\n",
    "        result *= i\n",
    "    return result\n",
    "\n",
    "'''factorial_result_not_recursive = factorial_not_recursive(2000)  # Calculate factorial of 5\n",
    "print(f\"Factorial of 5 (not recursive) is: {factorial_result_not_recursive}\")'''\n",
    "\n",
    "def factorial(n):\n",
    "    \"\"\"Function to calculate factorial of a number.\"\"\"\n",
    "    if n == 0 or n == 1:\n",
    "        return 1\n",
    "    else:\n",
    "        return n * factorial(n - 1)\n",
    "\n",
    "factorial_result = factorial(1000)  # Calculate factorial of 5\n",
    "print(f\"Factorial of 5 is: {factorial_result}\")"
   ]
  },
  {
   "cell_type": "code",
   "execution_count": 14,
   "id": "3934ca27",
   "metadata": {},
   "outputs": [
    {
     "name": "stdout",
     "output_type": "stream",
     "text": [
      "Before\n",
      "Hello, this is a decorator!\n",
      "After\n"
     ]
    }
   ],
   "source": [
    "# Decorators in Python\n",
    "\n",
    "def logtime(func):\n",
    "    \"\"\"Decorator to log the time taken by a function.\"\"\"\n",
    "    import time\n",
    "    def wrapper():\n",
    "        print(\"Before\")\n",
    "        val = func()\n",
    "        print(\"After\")\n",
    "        return val\n",
    "    return wrapper\n",
    "\n",
    "@logtime\n",
    "def greetings_decorator():\n",
    "    print(\"Hello, this is a decorator!\")\n",
    "\n",
    "greetings_decorator()\n"
   ]
  },
  {
   "cell_type": "code",
   "execution_count": 16,
   "id": "a6b483ec",
   "metadata": {},
   "outputs": [
    {
     "name": "stdout",
     "output_type": "stream",
     "text": [
      "Help on function example_function in module __main__:\n",
      "\n",
      "example_function()\n",
      "    This is an example function with a docstring.\n",
      "\n",
      "None\n",
      "This is an example function with a docstring.\n"
     ]
    }
   ],
   "source": [
    "# Docstrings in Python\n",
    "\n",
    "def example_function():\n",
    "    \"\"\"This is an example function with a docstring.\"\"\"\n",
    "    return \"This function does nothing.\"\n",
    "\n",
    "\n",
    "print(help(example_function))\n",
    "print(example_function.__doc__)  # Print the docstring of the function"
   ]
  },
  {
   "cell_type": "code",
   "execution_count": 17,
   "id": "6f947b9d",
   "metadata": {},
   "outputs": [
    {
     "name": "stdout",
     "output_type": "stream",
     "text": [
      "6\n",
      "{'n': <class 'int'>, 'return': <class 'int'>}\n"
     ]
    }
   ],
   "source": [
    "# Annotations in Python\n",
    "\n",
    "def increment(n: int) -> int:\n",
    "    \"\"\"Function to increment a number by 1.\"\"\"\n",
    "    return n + 1\n",
    "\n",
    "print(increment(5))  # Call the function with an integer argument\n",
    "print(increment.__annotations__)  # Print the annotations of the function"
   ]
  },
  {
   "cell_type": "code",
   "execution_count": 21,
   "id": "27ffe3f3",
   "metadata": {},
   "outputs": [
    {
     "name": "stdout",
     "output_type": "stream",
     "text": [
      "Error: division by zero\n",
      "This block always executes, regardless of an error.\n",
      "Validation error: Age cannot be negative!\n",
      "Custom error: Age seems unrealistic!\n"
     ]
    }
   ],
   "source": [
    "# Eceptions in Python\n",
    "\n",
    "try:\n",
    "    result = 10 / 0  # This will raise a ZeroDivisionError\n",
    "except ZeroDivisionError as e:\n",
    "    print(f\"Error: {e}\")\n",
    "except Exception as e:\n",
    "    print(f\"An unexpected error occurred: {e}\")\n",
    "finally:\n",
    "    print(\"This block always executes, regardless of an error.\")\n",
    "    \n",
    "# Custom exception example\n",
    "class CustomError(Exception):\n",
    "    \"\"\"Custom exception class\"\"\"\n",
    "    pass\n",
    "\n",
    "# Example 1: Raising a built-in exception with custom message\n",
    "def divide_numbers(a, b):\n",
    "    if b == 0:\n",
    "        raise ZeroDivisionError(\"Cannot divide by zero!\")\n",
    "    return a / b\n",
    "\n",
    "# Example 2: Raising a custom exception\n",
    "def validate_age(age):\n",
    "    if age < 0:\n",
    "        raise ValueError(\"Age cannot be negative!\")\n",
    "    if age > 150:\n",
    "        raise CustomError(\"Age seems unrealistic!\")\n",
    "    return True\n",
    "\n",
    "# Example 3: Re-raising an exception\n",
    "def process_data(data):\n",
    "    try:\n",
    "        result = 10 / data\n",
    "    except ZeroDivisionError:\n",
    "        print(\"Logging error before re-raising...\")\n",
    "        raise  # Re-raise the same exception\n",
    "\n",
    "# Test the examples\n",
    "try:\n",
    "    validate_age(-5)\n",
    "except ValueError as e:\n",
    "    print(f\"Validation error: {e}\")\n",
    "\n",
    "try:\n",
    "    validate_age(200)\n",
    "except CustomError as e:\n",
    "    print(f\"Custom error: {e}\")"
   ]
  },
  {
   "cell_type": "code",
   "execution_count": 23,
   "id": "b0e6572f",
   "metadata": {},
   "outputs": [
    {
     "name": "stdout",
     "output_type": "stream",
     "text": [
      "## PYTHON BEGINNER TO ADVANCED\n",
      "# Handbook Link:\n",
      "https://www.freecodecamp.org/news/the-python-handbook/\n",
      "\n",
      "# Topics Covered:\n",
      "    - Python Basics\n",
      "    - Data Types\n",
      "    - Operators\n",
      "    - The Ternary Operator\n",
      "    - Strings\n",
      "    - Booleans\n",
      "    - Numbers\n",
      "    - Constants\n",
      "    - Enums\n",
      "    - User Input\n",
      "    - Control Statements\n",
      "    - Lists\n",
      "    - Tuples\n",
      "    - Dictionaries\n",
      "    - Sets\n",
      "    - Functions\n",
      "    - Objects\n",
      "    - Loops\n",
      "    - Classes\n",
      "    - Modules\n",
      "    - Python Standard Library\n",
      "    - Variable Scope\n",
      "    - Accepting Arguments\n",
      "    - Recursion\n",
      "    - Nested Functions\n",
      "    - Closures\n",
      "    - Decorators\n",
      "    - Docstrings\n",
      "    - Annotations\n",
      "    - Exceptions\n",
      "    - The with statement\n",
      "    - Lsit comprehensions\n",
      "    - Polymorphism\n",
      "    - Operator Overloading\n",
      "\n",
      "\n",
      "\n"
     ]
    }
   ],
   "source": [
    "# with open statement \n",
    "\n",
    "with open(\"session2-part1.txt\", \"r\") as file:\n",
    "    content = file.read()\n",
    "    print(content)"
   ]
  },
  {
   "cell_type": "code",
   "execution_count": 24,
   "id": "8ec1a51b",
   "metadata": {},
   "outputs": [
    {
     "name": "stdout",
     "output_type": "stream",
     "text": [
      "Squares: [0, 1, 4, 9, 16, 25, 36, 49, 64, 81]\n"
     ]
    }
   ],
   "source": [
    "# List Compression in Python\n",
    "\n",
    "squares = [x**2 for x in range(10)]  # List comprehension to create a list of squares\n",
    "print(f\"Squares: {squares}\")"
   ]
  },
  {
   "cell_type": "code",
   "execution_count": 25,
   "id": "02442af3",
   "metadata": {},
   "outputs": [
    {
     "name": "stdout",
     "output_type": "stream",
     "text": [
      "Dog is eating\n",
      "Cat is eating\n"
     ]
    }
   ],
   "source": [
    "# polymorphism in Python\n",
    "# same method name, different implementations in different classes\n",
    "\n",
    "class Dog:\n",
    "    def eat(self):\n",
    "        print(\"Dog is eating\")\n",
    "\n",
    "class Cat:\n",
    "    def eat(self):\n",
    "        print(\"Cat is eating\")\n",
    "\n",
    "animal1 = Dog()\n",
    "animal2 = Cat()\n",
    "\n",
    "animal1.eat()  \n",
    "animal2.eat()  "
   ]
  },
  {
   "cell_type": "code",
   "execution_count": 28,
   "id": "b1c2daf7",
   "metadata": {},
   "outputs": [
    {
     "name": "stdout",
     "output_type": "stream",
     "text": [
      "False\n"
     ]
    }
   ],
   "source": [
    "# operator overloading in Python\n",
    "\n",
    "class Dog:\n",
    "    def __init__(self, name, age):\n",
    "        self.name = name\n",
    "        self.age = age\n",
    "        \n",
    "    def __gt__(self, other):\n",
    "        \"\"\"Overloading the '>' operator to compare ages of dogs.\"\"\"\n",
    "        return True if self.age > other.age else False\n",
    "\n",
    "roger = Dog(\"Roger\", 5)\n",
    "jerry = Dog(\"Jerry\", 9)\n",
    "\n",
    "print(roger > jerry)  "
   ]
  },
  {
   "cell_type": "markdown",
   "id": "e5434bdf",
   "metadata": {},
   "source": [
    "## other operators are ##\n",
    "\n",
    "- `__add__()` responds to the + operator\n",
    "- `__sub__()` responds to the - operator\n",
    "- `__mul__()` responds to the * operator\n",
    "- `__truediv__()` responds to the / operator\n",
    "- `__floordiv__()` responds to the // operator\n",
    "- `__mod__()` responds to the % operator\n",
    "- `__pow__()` responds to the ** operator\n",
    "- `__eq__()` responds to the == operator\n",
    "- `__ne__()` responds to the != operator\n",
    "- `__lt__()` responds to the < operator\n",
    "- `__le__()` responds to the <= operator\n",
    "- `__gt__()` responds to the > operator\n",
    "- `__ge__()` responds to the >= operator\n",
    "- `__len__()` responds to the len() function\n",
    "- `__str__()` responds to the str() function and print()\n",
    "- `__repr__()` responds to the repr() function"
   ]
  },
  {
   "cell_type": "code",
   "execution_count": null,
   "id": "71669503",
   "metadata": {},
   "outputs": [],
   "source": [
    "# Blackjack Game\n",
    "import random\n",
    "\n",
    "class Card:\n",
    "    def __init__(self, suit, rank):\n",
    "        self.suit = suit\n",
    "        self.rank = rank\n",
    "    \n",
    "    def __str__(self):\n",
    "        return f\"{self.rank['rank']} of {self.suit}\"\n",
    "\n",
    "class Deck:\n",
    "    \"\"\"Class to represent a deck of cards.\"\"\"\n",
    "    def __init__(self):\n",
    "        self.cards = []\n",
    "        suits = ['Hearts', 'Diamonds', 'Clubs', 'Spades']\n",
    "\n",
    "        ranks = [\n",
    "            {\"rank\": \"Ace\", \"value\": 11},\n",
    "            {\"rank\": \"King\", \"value\": 10},\n",
    "            {\"rank\": \"Queen\", \"value\": 10},\n",
    "            {\"rank\": \"Jack\", \"value\": 10},\n",
    "            {\"rank\": \"10\", \"value\": 10},\n",
    "            {\"rank\": \"9\", \"value\": 9},    \n",
    "            {\"rank\": \"8\", \"value\": 8},\n",
    "            {\"rank\": \"7\", \"value\": 7},\n",
    "            {\"rank\": \"6\", \"value\": 6},\n",
    "            {\"rank\": \"5\", \"value\": 5},\n",
    "            {\"rank\": \"4\", \"value\": 4},\n",
    "            {\"rank\": \"3\", \"value\": 3},\n",
    "            {\"rank\": \"2\", \"value\": 2}\n",
    "        ]\n",
    "\n",
    "        for suit in suits:\n",
    "            for rank in ranks:\n",
    "                self.cards.append(Card(suit, rank))\n",
    "                \n",
    "        self.shuffle()  # Shuffle after creating the deck\n",
    "        \n",
    "        '''\n",
    "        cards_delt = deal(2)  \n",
    "        card = cards_delt[0]  # Get the first dealt card\n",
    "        rank = card[1]\n",
    "\n",
    "        if rank == \"Ace\":\n",
    "            value = 11\n",
    "        elif rank in [\"Jack\", \"Queen\", \"King\"]:\n",
    "            value = 10\n",
    "        else:\n",
    "            value = int(rank)\n",
    "\n",
    "\n",
    "        rank_dict = {\"rank\": rank, \"value\": value}\n",
    "\n",
    "        print (rank_dict[\"rank\"], rank_dict[\"value\"])\n",
    "        '''\n",
    "\n",
    "    def shuffle(self):\n",
    "        if len(self.cards) >1:\n",
    "            random.shuffle(self.cards)  # Shuffle the deck of cards\n",
    "        \n",
    "    def deal(self, number):\n",
    "        cards_dealt = []\n",
    "        for x in range(number):\n",
    "            if len(self.cards) > 0:\n",
    "                card = self.cards.pop()  # Draw a card from the deck\n",
    "                cards_dealt.append(card)\n",
    "        return cards_dealt\n",
    "\n",
    "'''\n",
    "deck1 = Deck()  # Create a new deck of cards\n",
    "deck2 = Deck()  # Create another deck of cards\n",
    "print(deck1.cards) \n",
    "print(\"\")\n",
    "deck2.shuffle()  \n",
    "print(deck2.cards)  \n",
    "'''\n",
    "\n",
    "'''card1 = Card(\"Hearts\", {\"rank\": \"Ace\", \"value\": 11})\n",
    "print(card1)  # Print the card'''\n",
    "\n",
    "class Hand:\n",
    "    def __init__(self, dealer=False):\n",
    "        self.cards = []\n",
    "        self.value = 0\n",
    "        self.dealer = dealer\n",
    "    \n",
    "    def add_card(self, card_list):\n",
    "        self.cards.extend(card_list)  # Add a card to the hand\n",
    "\n",
    "    def calculate_value(self):\n",
    "        self.value = 0\n",
    "        \n",
    "        for card in self.cards:\n",
    "            card_value = int(card.rank['value'])\n",
    "            self.value += card_value\n",
    "            has_ace = False\n",
    "            if card.rank['rank'] == \"Ace\":\n",
    "                has_ace = True      \n",
    "        \n",
    "        if has_ace and self.value > 21:\n",
    "            self.value -= 10\n",
    "    \n",
    "    def get_value(self):\n",
    "        self.calculate_value()\n",
    "        return self.value\n",
    "    \n",
    "    def is_blackjack(self):\n",
    "        \"\"\"Check if the hand is a blackjack (21 with two cards).\"\"\"\n",
    "        return self.get_value() == 21 \n",
    "    \n",
    "    def display(self, show_all_dealer_cards = False):\n",
    "        print(f'''{\"Dealer's\" if self.dealer else \"Your\" } hand: ''')\n",
    "        \n",
    "        for index, card in enumerate(self.cards):\n",
    "            if index == 0 and self.dealer and not show_all_dealer_cards and not self.is_blackjack():\n",
    "                print(\"Hidden Card\")\n",
    "            else:\n",
    "                print(card)\n",
    "        \n",
    "        if not self.dealer:\n",
    "            print(f\"Your hand value: {self.get_value()}\")\n",
    "        \n",
    "    \n",
    "'''deck = Deck()  # Create a new deck of cards\n",
    "deck.shuffle()  # Shuffle the deck\n",
    "\n",
    "hand = Hand()  \n",
    "hand.add_card(deck.deal(2))  \n",
    "hand.display() # Display the hand'''\n",
    "\n",
    "class Game:\n",
    "    def play(self):\n",
    "        game_number = 0\n",
    "        games_to_play = 0\n",
    "        \n",
    "        try:\n",
    "            games_to_play = int(input(\"How many games do you want to play? \"))\n",
    "        except:\n",
    "            print(\"Invalid input. Please enter a number.\")\n",
    "        \n",
    "        while game_number < games_to_play:\n",
    "            game_number += 1\n",
    "            \n",
    "            decl = Deck()\n",
    "            decl.shuffle()\n",
    "            \n",
    "            player_hand = Hand()\n",
    "            dealer_hand = Hand(dealer=True)\n",
    "            \n",
    "            for i in range(2):\n",
    "                player_hand.add_card(decl.deal(1))\n",
    "                dealer_hand.add_card(decl.deal(1))\n",
    "            \n",
    "            print(\"\")\n",
    "            print(\"*\" * 30)\n",
    "            print(f\"Game {game_number} of {games_to_play}\")\n",
    "            print(\"*\" * 30)\n",
    "            \n",
    "            player_hand.display()\n",
    "            dealer_hand.display(show_all_dealer_cards=False)\n",
    "            \n",
    "            if self.check_winner(player_hand, dealer_hand):\n",
    "                continue\n",
    "            \n",
    "            choice = \"\"\n",
    "            while player_hand.get_value() < 21 and choice not in [\"s\", \"stand\"]:\n",
    "                choice = input(\"Do you want to hit or stand? (hit/stand): \").lower()\n",
    "                print()\n",
    "                while choice not in [\"hit\", \"stand\", \"s\", \"h\"]:\n",
    "                    choice = input(\"Invalid choice. Please enter 'hit' or 'stand': \").lower()\n",
    "                    print()\n",
    "                \n",
    "                if choice in [\"hit\", \"h\"]:\n",
    "                    player_hand.add_card(decl.deal(1))\n",
    "                    player_hand.display()\n",
    "\n",
    "            \n",
    "            player_hand_value = player_hand.get_value()\n",
    "            dealer_hand_value = dealer_hand.get_value()\n",
    "            \n",
    "            while dealer_hand.get_value() < 17:\n",
    "                dealer_hand.add_card(decl.deal())\n",
    "                dealer_hand_value = dealer_hand.get_value()\n",
    "            \n",
    "            dealer_hand.display(show_all_dealer_cards=True)\n",
    "            if self.check_winner(player_hand, dealer_hand):\n",
    "                continue \n",
    "            \n",
    "            print(\"Final Results:\")\n",
    "            print(f\"Your hand value: {player_hand_value}\")\n",
    "            print(f\"Dealer's hand value: {dealer_hand_value}\")\n",
    "            \n",
    "            self.check_winner(player_hand, dealer_hand, game_over=True)\n",
    "            \n",
    "            \n",
    "    def check_winner(self, player_hand, dealer_hand, game_over = False):\n",
    "        if not game_over:\n",
    "            if player_hand.get_value() > 21:\n",
    "                return \"You busted! Dealer wins.\"\n",
    "                return True\n",
    "            elif dealer_hand.get_value() > 21:\n",
    "                return \"Dealer busted! You win.\"\n",
    "                return True\n",
    "            elif dealer_hand.is_blackjack() and player_hand.is_blackjack():\n",
    "                return \"Both have blackjack! It's a tie.\"           \n",
    "                return True \n",
    "            elif player_hand.is_blackjack():\n",
    "                return \"You have blackjack! You win.\"\n",
    "                return True \n",
    "            elif dealer_hand.is_blackjack():\n",
    "                return \"Dealer has blackjack! Dealer wins.\"\n",
    "                return True\n",
    "        else: \n",
    "            if player_hand.get_value() > dealer_hand.get_value():\n",
    "                return \"You win!\"\n",
    "            elif player_hand.get_value() < dealer_hand.get_value():\n",
    "                return \"Dealer wins!\"\n",
    "            else:\n",
    "                return \"It's a tie!\"\n",
    "            return True\n",
    "        return False"
   ]
  },
  {
   "cell_type": "code",
   "execution_count": null,
   "id": "4a241e77",
   "metadata": {},
   "outputs": [],
   "source": [
    "# Blackjack Game - Fixed Version\n",
    "import random\n",
    "\n",
    "class Card:\n",
    "    def __init__(self, suit, rank):\n",
    "        self.suit = suit\n",
    "        self.rank = rank\n",
    "    \n",
    "    def __str__(self):\n",
    "        return f\"{self.rank['rank']} of {self.suit}\"\n",
    "\n",
    "class Deck:\n",
    "    \"\"\"Class to represent a deck of cards.\"\"\"\n",
    "    def __init__(self):\n",
    "        self.cards = []\n",
    "        suits = ['Hearts', 'Diamonds', 'Clubs', 'Spades']\n",
    "\n",
    "        ranks = [\n",
    "            {\"rank\": \"Ace\", \"value\": 11},\n",
    "            {\"rank\": \"King\", \"value\": 10},\n",
    "            {\"rank\": \"Queen\", \"value\": 10},\n",
    "            {\"rank\": \"Jack\", \"value\": 10},\n",
    "            {\"rank\": \"10\", \"value\": 10},\n",
    "            {\"rank\": \"9\", \"value\": 9},    \n",
    "            {\"rank\": \"8\", \"value\": 8},\n",
    "            {\"rank\": \"7\", \"value\": 7},\n",
    "            {\"rank\": \"6\", \"value\": 6},\n",
    "            {\"rank\": \"5\", \"value\": 5},\n",
    "            {\"rank\": \"4\", \"value\": 4},\n",
    "            {\"rank\": \"3\", \"value\": 3},\n",
    "            {\"rank\": \"2\", \"value\": 2}\n",
    "        ]\n",
    "\n",
    "        for suit in suits:\n",
    "            for rank in ranks:\n",
    "                self.cards.append(Card(suit, rank))\n",
    "                \n",
    "        self.shuffle()  # Shuffle after creating the deck\n",
    "\n",
    "    def shuffle(self):\n",
    "        if len(self.cards) > 1:\n",
    "            random.shuffle(self.cards)  # Shuffle the deck of cards\n",
    "        \n",
    "    def deal(self, number):\n",
    "        cards_dealt = []\n",
    "        for x in range(number):\n",
    "            if len(self.cards) > 0:\n",
    "                card = self.cards.pop()  # Draw a card from the deck\n",
    "                cards_dealt.append(card)\n",
    "        return cards_dealt\n",
    "\n",
    "class Hand:\n",
    "    def __init__(self, dealer=False):\n",
    "        self.cards = []\n",
    "        self.value = 0\n",
    "        self.dealer = dealer\n",
    "    \n",
    "    def add_card(self, card_list):\n",
    "        self.cards.extend(card_list)  # Add cards to the hand\n",
    "\n",
    "    def calculate_value(self):\n",
    "        self.value = 0\n",
    "        aces = 0\n",
    "        \n",
    "        for card in self.cards:\n",
    "            card_value = int(card.rank['value'])\n",
    "            self.value += card_value\n",
    "            if card.rank['rank'] == \"Ace\":\n",
    "                aces += 1\n",
    "        \n",
    "        # Adjust for aces (convert from 11 to 1 if needed)\n",
    "        while self.value > 21 and aces > 0:\n",
    "            self.value -= 10\n",
    "            aces -= 1\n",
    "    \n",
    "    def get_value(self):\n",
    "        self.calculate_value()\n",
    "        return self.value\n",
    "    \n",
    "    def is_blackjack(self):\n",
    "        \"\"\"Check if the hand is a blackjack (21 with two cards).\"\"\"\n",
    "        return len(self.cards) == 2 and self.get_value() == 21\n",
    "    \n",
    "    def display(self, show_all_dealer_cards=False):\n",
    "        print(f'''{\"Dealer's\" if self.dealer else \"Your\"} hand:''')\n",
    "        \n",
    "        for index, card in enumerate(self.cards):\n",
    "            if index == 0 and self.dealer and not show_all_dealer_cards and not self.is_blackjack():\n",
    "                print(\"Hidden Card\")\n",
    "            else:\n",
    "                print(card)\n",
    "        \n",
    "        if not self.dealer:\n",
    "            print(f\"Your hand value: {self.get_value()}\")\n",
    "        print()\n",
    "\n",
    "class Game:\n",
    "    def play(self):\n",
    "        game_number = 0\n",
    "        games_to_play = 0\n",
    "        \n",
    "        try:\n",
    "            games_to_play = int(input(\"How many games do you want to play? \"))\n",
    "        except:\n",
    "            print(\"Invalid input. Please enter a number.\")\n",
    "            return\n",
    "        \n",
    "        while game_number < games_to_play:\n",
    "            game_number += 1\n",
    "            \n",
    "            deck = Deck()\n",
    "            deck.shuffle()\n",
    "            \n",
    "            player_hand = Hand()\n",
    "            dealer_hand = Hand(dealer=True)\n",
    "            \n",
    "            for i in range(2):\n",
    "                player_hand.add_card(deck.deal(1))\n",
    "                dealer_hand.add_card(deck.deal(1))\n",
    "            \n",
    "            print(\"\")\n",
    "            print(\"*\" * 30)\n",
    "            print(f\"Game {game_number} of {games_to_play}\")\n",
    "            print(\"*\" * 30)\n",
    "            \n",
    "            player_hand.display()\n",
    "            dealer_hand.display(show_all_dealer_cards=False)\n",
    "            \n",
    "            # Check for blackjacks\n",
    "            if self.check_winner(player_hand, dealer_hand):\n",
    "                continue\n",
    "            \n",
    "            # Player's turn\n",
    "            choice = \"\"\n",
    "            while player_hand.get_value() < 21 and choice not in [\"s\", \"stand\"]:\n",
    "                choice = input(\"Do you want to hit or stand? (hit/stand): \").lower()\n",
    "                print()\n",
    "                while choice not in [\"hit\", \"stand\", \"s\", \"h\"]:\n",
    "                    choice = input(\"Invalid choice. Please enter 'hit' or 'stand': \").lower()\n",
    "                    print()\n",
    "                \n",
    "                if choice in [\"hit\", \"h\"]:\n",
    "                    player_hand.add_card(deck.deal(1))\n",
    "                    player_hand.display()\n",
    "                    if player_hand.get_value() > 21:\n",
    "                        print(\"You busted! Dealer wins.\")\n",
    "                        break\n",
    "            \n",
    "            if player_hand.get_value() > 21:\n",
    "                continue\n",
    "            \n",
    "            # Dealer's turn\n",
    "            print(\"Dealer's turn:\")\n",
    "            dealer_hand.display(show_all_dealer_cards=True)\n",
    "            \n",
    "            while dealer_hand.get_value() < 17:\n",
    "                print(\"Dealer hits...\")\n",
    "                dealer_hand.add_card(deck.deal(1))\n",
    "                dealer_hand.display(show_all_dealer_cards=True)\n",
    "            \n",
    "            # Final results\n",
    "            print(\"Final Results:\")\n",
    "            print(f\"Your hand value: {player_hand.get_value()}\")\n",
    "            print(f\"Dealer's hand value: {dealer_hand.get_value()}\")\n",
    "            \n",
    "            winner = self.check_winner(player_hand, dealer_hand, game_over=True)\n",
    "            print(winner)\n",
    "            print()\n",
    "            \n",
    "    def check_winner(self, player_hand, dealer_hand, game_over=False):\n",
    "        if not game_over:\n",
    "            if player_hand.get_value() > 21:\n",
    "                print(\"You busted! Dealer wins.\")\n",
    "                return True\n",
    "            elif dealer_hand.get_value() > 21:\n",
    "                print(\"Dealer busted! You win.\")\n",
    "                return True\n",
    "            elif dealer_hand.is_blackjack() and player_hand.is_blackjack():\n",
    "                print(\"Both have blackjack! It's a tie.\")\n",
    "                return True \n",
    "            elif player_hand.is_blackjack():\n",
    "                print(\"You have blackjack! You win.\")\n",
    "                return True \n",
    "            elif dealer_hand.is_blackjack():\n",
    "                print(\"Dealer has blackjack! Dealer wins.\")\n",
    "                return True\n",
    "        else: \n",
    "            if player_hand.get_value() > dealer_hand.get_value():\n",
    "                return \"You win!\"\n",
    "            elif player_hand.get_value() < dealer_hand.get_value():\n",
    "                return \"Dealer wins!\"\n",
    "            else:\n",
    "                return \"It's a tie!\"\n",
    "        return False"
   ]
  },
  {
   "cell_type": "code",
   "execution_count": 118,
   "id": "fa040221",
   "metadata": {},
   "outputs": [
    {
     "name": "stdout",
     "output_type": "stream",
     "text": [
      "\n",
      "******************************\n",
      "Game 1 of 1\n",
      "******************************\n",
      "Your hand: \n",
      "Ace of Diamonds\n",
      "King of Diamonds\n",
      "Your hand value: 21\n",
      "Dealer's hand: \n",
      "Hidden Card\n",
      "9 of Clubs\n"
     ]
    }
   ],
   "source": [
    "# Start the Blackjack Game\n",
    "if __name__ == \"__main__\":\n",
    "    game = Game()\n",
    "    game.play()"
   ]
  }
 ],
 "metadata": {
  "kernelspec": {
   "display_name": "Python 3",
   "language": "python",
   "name": "python3"
  },
  "language_info": {
   "codemirror_mode": {
    "name": "ipython",
    "version": 3
   },
   "file_extension": ".py",
   "mimetype": "text/x-python",
   "name": "python",
   "nbconvert_exporter": "python",
   "pygments_lexer": "ipython3",
   "version": "3.12.4"
  }
 },
 "nbformat": 4,
 "nbformat_minor": 5
}
