{
 "cells": [
  {
   "cell_type": "code",
   "execution_count": 2,
   "id": "b08d9468",
   "metadata": {},
   "outputs": [
    {
     "name": "stdout",
     "output_type": "stream",
     "text": [
      "Original array:\n",
      " [[1 2 3]\n",
      " [4 5 6]]\n",
      "Sum of all elements: 21\n",
      "Mean of all elements: 3.5\n",
      "Transposed array:\n",
      " [[1 4]\n",
      " [2 5]\n",
      " [3 6]]\n"
     ]
    }
   ],
   "source": [
    "import numpy as np\n",
    "\n",
    "# Create a 2D NumPy array\n",
    "array = np.array([[1, 2, 3], [4, 5, 6]])\n",
    "\n",
    "# Basic operations\n",
    "sum_all = np.sum(array)\n",
    "mean_all = np.mean(array)\n",
    "transposed = array.T\n",
    "\n",
    "print(\"Original array:\\n\", array)\n",
    "print(\"Sum of all elements:\", sum_all)\n",
    "print(\"Mean of all elements:\", mean_all)\n",
    "print(\"Transposed array:\\n\", transposed)"
   ]
  },
  {
   "cell_type": "code",
   "execution_count": null,
   "id": "75c1a733",
   "metadata": {},
   "outputs": [],
   "source": [
    "import seaborn as sns\n",
    "import pandas as pd\n",
    "\n",
    "import matplotlib.pyplot as plt\n",
    "\n",
    "# Convert the NumPy array to a DataFrame for easier plotting with seaborn\n",
    "df = pd.DataFrame(array, columns=['A', 'B', 'C'])\n",
    "\n",
    "# Create a heatmap using seaborn\n",
    "sns.heatmap(df, annot=True, cmap='viridis')\n",
    "plt.title('Heatmap of array')\n",
    "plt.show()"
   ]
  }
 ],
 "metadata": {
  "kernelspec": {
   "display_name": "Python 3",
   "language": "python",
   "name": "python3"
  },
  "language_info": {
   "codemirror_mode": {
    "name": "ipython",
    "version": 3
   },
   "file_extension": ".py",
   "mimetype": "text/x-python",
   "name": "python",
   "nbconvert_exporter": "python",
   "pygments_lexer": "ipython3",
   "version": "3.12.4"
  }
 },
 "nbformat": 4,
 "nbformat_minor": 5
}
